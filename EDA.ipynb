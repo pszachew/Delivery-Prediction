{
  "nbformat": 4,
  "nbformat_minor": 0,
  "metadata": {
    "colab": {
      "name": "Untitled6.ipynb",
      "provenance": [],
      "include_colab_link": true
    },
    "kernelspec": {
      "display_name": "Python 3",
      "name": "python3"
    },
    "language_info": {
      "name": "python"
    }
  },
  "cells": [
    {
      "cell_type": "markdown",
      "metadata": {
        "id": "view-in-github",
        "colab_type": "text"
      },
      "source": [
        "<a href=\"https://colab.research.google.com/github/pszachew/Delivery-Prediction/blob/master/EDA.ipynb\" target=\"_parent\"><img src=\"https://colab.research.google.com/assets/colab-badge.svg\" alt=\"Open In Colab\"/></a>"
      ]
    },
    {
      "cell_type": "markdown",
      "metadata": {
        "id": "m8JTVQhPbWNf"
      },
      "source": [
        "# Kontekst\n",
        "\n",
        "Jesteśmy analitykami sklepu internetowego *eSzoppping* - sklepu internetowego z elektroniką oraz grami komputerowymi.\n",
        "\n",
        "## Opis problemu\n",
        "\n",
        "W związku ze zmiennymi czasami dostaw produktów przez firmy kurierskie nie jesteśmy w stanie dokładnie podać klientom przewidywanego czasu dostawy.\n",
        "\n",
        "## Oczekiwania\n",
        "\n",
        "Stworzenie modelu pozwalającego przewidywać czas dostawy danego produktu do klienta. Przekazywanie takich danych przy zakupie poprawiłoby atrakcyjność serwisu.\n",
        "\n",
        "# Słownik dziedziny problemu\n",
        "\n",
        "\n",
        "\n",
        "*   klient/użytkownik - osoba korzystająca ze sklepu\n",
        "*   sesja - okres obejmujący korzystanie przez danego użytkownika sklepu w danym okresie\n",
        "*   dostawca - firma realizująca dostawę produktu do klienta\n",
        "\n",
        "# Problem biznesowy\n",
        "\n",
        "Przewidywanie czasu potrzebnego na dostarczenie produktu klientowi.\n",
        "\n",
        "## Biznesowe kryterium sukcesu\n",
        "\n",
        "Przewidywania dostarczane przez model powinny jak najrzadziej się mylić, a nawet jeśli pomyłka wystąpi to nie powinna być znacząca.\n",
        "\n",
        "# Zadanie modelowania"
      ]
    },
    {
      "cell_type": "code",
      "metadata": {
        "id": "QEaLTXm7CriD"
      },
      "source": [
        "import pandas as pd\n",
        "import seaborn as sns\n",
        "import matplotlib.pyplot as plt"
      ],
      "execution_count": 1,
      "outputs": []
    },
    {
      "cell_type": "code",
      "metadata": {
        "id": "fv-YM_38CswI"
      },
      "source": [
        "deliveries = pd.read_json('https://raw.githubusercontent.com/pszachew/Delivery-Prediction/master/data/deliveries.jsonl', lines=True)"
      ],
      "execution_count": 2,
      "outputs": []
    },
    {
      "cell_type": "code",
      "metadata": {
        "id": "C-teJ3poDBfn"
      },
      "source": [
        "sessions = pd.read_json('https://raw.githubusercontent.com/pszachew/Delivery-Prediction/master/data/sessions.jsonl', lines=True)"
      ],
      "execution_count": 3,
      "outputs": []
    },
    {
      "cell_type": "code",
      "metadata": {
        "id": "TEqQ9Ni8DZVC"
      },
      "source": [
        "products = pd.read_json('https://raw.githubusercontent.com/pszachew/Delivery-Prediction/master/data/products.jsonl', lines=True)"
      ],
      "execution_count": 4,
      "outputs": []
    },
    {
      "cell_type": "code",
      "metadata": {
        "id": "qsk5DlNoDsTL"
      },
      "source": [
        "users = pd.read_json('https://raw.githubusercontent.com/pszachew/Delivery-Prediction/master/data/users.jsonl', lines=True)"
      ],
      "execution_count": 5,
      "outputs": []
    },
    {
      "cell_type": "code",
      "metadata": {
        "colab": {
          "base_uri": "https://localhost:8080/",
          "height": 204
        },
        "id": "iJLmZpFYDwx2",
        "outputId": "cf8ce596-33f5-4be2-bd65-fdcde0143e8f"
      },
      "source": [
        "deliveries.head()"
      ],
      "execution_count": 6,
      "outputs": [
        {
          "output_type": "execute_result",
          "data": {
            "text/html": [
              "<div>\n",
              "<style scoped>\n",
              "    .dataframe tbody tr th:only-of-type {\n",
              "        vertical-align: middle;\n",
              "    }\n",
              "\n",
              "    .dataframe tbody tr th {\n",
              "        vertical-align: top;\n",
              "    }\n",
              "\n",
              "    .dataframe thead th {\n",
              "        text-align: right;\n",
              "    }\n",
              "</style>\n",
              "<table border=\"1\" class=\"dataframe\">\n",
              "  <thead>\n",
              "    <tr style=\"text-align: right;\">\n",
              "      <th></th>\n",
              "      <th>purchase_id</th>\n",
              "      <th>purchase_timestamp</th>\n",
              "      <th>delivery_timestamp</th>\n",
              "      <th>delivery_company</th>\n",
              "    </tr>\n",
              "  </thead>\n",
              "  <tbody>\n",
              "    <tr>\n",
              "      <th>0</th>\n",
              "      <td>20001</td>\n",
              "      <td>2021-03-13T15:20:42</td>\n",
              "      <td>2021-03-15T09:02:35.781897</td>\n",
              "      <td>516</td>\n",
              "    </tr>\n",
              "    <tr>\n",
              "      <th>1</th>\n",
              "      <td>20002</td>\n",
              "      <td>2021-07-05T05:38:05</td>\n",
              "      <td>2021-07-06T13:03:11.690276</td>\n",
              "      <td>516</td>\n",
              "    </tr>\n",
              "    <tr>\n",
              "      <th>2</th>\n",
              "      <td>20003</td>\n",
              "      <td>2021-08-10T02:55:17</td>\n",
              "      <td>2021-08-12T08:10:38.305541</td>\n",
              "      <td>620</td>\n",
              "    </tr>\n",
              "    <tr>\n",
              "      <th>3</th>\n",
              "      <td>20004</td>\n",
              "      <td>2021-06-11T17:55:59</td>\n",
              "      <td>2021-06-14T08:25:06.664179</td>\n",
              "      <td>620</td>\n",
              "    </tr>\n",
              "    <tr>\n",
              "      <th>4</th>\n",
              "      <td>20005</td>\n",
              "      <td>2021-05-12T17:45:11</td>\n",
              "      <td>2021-05-15T09:13:13.350646</td>\n",
              "      <td>620</td>\n",
              "    </tr>\n",
              "  </tbody>\n",
              "</table>\n",
              "</div>"
            ],
            "text/plain": [
              "   purchase_id  ... delivery_company\n",
              "0        20001  ...              516\n",
              "1        20002  ...              516\n",
              "2        20003  ...              620\n",
              "3        20004  ...              620\n",
              "4        20005  ...              620\n",
              "\n",
              "[5 rows x 4 columns]"
            ]
          },
          "metadata": {},
          "execution_count": 6
        }
      ]
    },
    {
      "cell_type": "code",
      "metadata": {
        "colab": {
          "base_uri": "https://localhost:8080/",
          "height": 204
        },
        "id": "nbdQ-V6IEBPn",
        "outputId": "be1f1560-84f4-4307-96bf-69c213feb732"
      },
      "source": [
        "sessions.head()"
      ],
      "execution_count": 7,
      "outputs": [
        {
          "output_type": "execute_result",
          "data": {
            "text/html": [
              "<div>\n",
              "<style scoped>\n",
              "    .dataframe tbody tr th:only-of-type {\n",
              "        vertical-align: middle;\n",
              "    }\n",
              "\n",
              "    .dataframe tbody tr th {\n",
              "        vertical-align: top;\n",
              "    }\n",
              "\n",
              "    .dataframe thead th {\n",
              "        text-align: right;\n",
              "    }\n",
              "</style>\n",
              "<table border=\"1\" class=\"dataframe\">\n",
              "  <thead>\n",
              "    <tr style=\"text-align: right;\">\n",
              "      <th></th>\n",
              "      <th>session_id</th>\n",
              "      <th>timestamp</th>\n",
              "      <th>user_id</th>\n",
              "      <th>product_id</th>\n",
              "      <th>event_type</th>\n",
              "      <th>offered_discount</th>\n",
              "      <th>purchase_id</th>\n",
              "    </tr>\n",
              "  </thead>\n",
              "  <tbody>\n",
              "    <tr>\n",
              "      <th>0</th>\n",
              "      <td>124</td>\n",
              "      <td>2021-03-13 15:14:51</td>\n",
              "      <td>102</td>\n",
              "      <td>1035</td>\n",
              "      <td>VIEW_PRODUCT</td>\n",
              "      <td>5</td>\n",
              "      <td>NaN</td>\n",
              "    </tr>\n",
              "    <tr>\n",
              "      <th>1</th>\n",
              "      <td>124</td>\n",
              "      <td>2021-03-13 15:16:00</td>\n",
              "      <td>102</td>\n",
              "      <td>1067</td>\n",
              "      <td>VIEW_PRODUCT</td>\n",
              "      <td>5</td>\n",
              "      <td>NaN</td>\n",
              "    </tr>\n",
              "    <tr>\n",
              "      <th>2</th>\n",
              "      <td>124</td>\n",
              "      <td>2021-03-13 15:20:42</td>\n",
              "      <td>102</td>\n",
              "      <td>1067</td>\n",
              "      <td>BUY_PRODUCT</td>\n",
              "      <td>5</td>\n",
              "      <td>20001.0</td>\n",
              "    </tr>\n",
              "    <tr>\n",
              "      <th>3</th>\n",
              "      <td>125</td>\n",
              "      <td>2021-01-30 15:58:37</td>\n",
              "      <td>102</td>\n",
              "      <td>1067</td>\n",
              "      <td>VIEW_PRODUCT</td>\n",
              "      <td>0</td>\n",
              "      <td>NaN</td>\n",
              "    </tr>\n",
              "    <tr>\n",
              "      <th>4</th>\n",
              "      <td>126</td>\n",
              "      <td>2021-07-05 05:36:36</td>\n",
              "      <td>102</td>\n",
              "      <td>1001</td>\n",
              "      <td>VIEW_PRODUCT</td>\n",
              "      <td>0</td>\n",
              "      <td>NaN</td>\n",
              "    </tr>\n",
              "  </tbody>\n",
              "</table>\n",
              "</div>"
            ],
            "text/plain": [
              "   session_id           timestamp  ...  offered_discount  purchase_id\n",
              "0         124 2021-03-13 15:14:51  ...                 5          NaN\n",
              "1         124 2021-03-13 15:16:00  ...                 5          NaN\n",
              "2         124 2021-03-13 15:20:42  ...                 5      20001.0\n",
              "3         125 2021-01-30 15:58:37  ...                 0          NaN\n",
              "4         126 2021-07-05 05:36:36  ...                 0          NaN\n",
              "\n",
              "[5 rows x 7 columns]"
            ]
          },
          "metadata": {},
          "execution_count": 7
        }
      ]
    },
    {
      "cell_type": "code",
      "metadata": {
        "colab": {
          "base_uri": "https://localhost:8080/",
          "height": 204
        },
        "id": "RSNTBIaCECSb",
        "outputId": "55252967-5a18-4f97-8017-22d978c3641d"
      },
      "source": [
        "products.head()"
      ],
      "execution_count": 8,
      "outputs": [
        {
          "output_type": "execute_result",
          "data": {
            "text/html": [
              "<div>\n",
              "<style scoped>\n",
              "    .dataframe tbody tr th:only-of-type {\n",
              "        vertical-align: middle;\n",
              "    }\n",
              "\n",
              "    .dataframe tbody tr th {\n",
              "        vertical-align: top;\n",
              "    }\n",
              "\n",
              "    .dataframe thead th {\n",
              "        text-align: right;\n",
              "    }\n",
              "</style>\n",
              "<table border=\"1\" class=\"dataframe\">\n",
              "  <thead>\n",
              "    <tr style=\"text-align: right;\">\n",
              "      <th></th>\n",
              "      <th>product_id</th>\n",
              "      <th>product_name</th>\n",
              "      <th>category_path</th>\n",
              "      <th>price</th>\n",
              "    </tr>\n",
              "  </thead>\n",
              "  <tbody>\n",
              "    <tr>\n",
              "      <th>0</th>\n",
              "      <td>1001</td>\n",
              "      <td>Telefon Siemens Gigaset DA310</td>\n",
              "      <td>Telefony i akcesoria;Telefony stacjonarne</td>\n",
              "      <td>58.97</td>\n",
              "    </tr>\n",
              "    <tr>\n",
              "      <th>1</th>\n",
              "      <td>1002</td>\n",
              "      <td>Kyocera FS-1135MFP</td>\n",
              "      <td>Komputery;Drukarki i skanery;Biurowe urządzeni...</td>\n",
              "      <td>2048.50</td>\n",
              "    </tr>\n",
              "    <tr>\n",
              "      <th>2</th>\n",
              "      <td>1003</td>\n",
              "      <td>Kyocera FS-3640MFP</td>\n",
              "      <td>Komputery;Drukarki i skanery;Biurowe urządzeni...</td>\n",
              "      <td>7639.00</td>\n",
              "    </tr>\n",
              "    <tr>\n",
              "      <th>3</th>\n",
              "      <td>1004</td>\n",
              "      <td>Fallout 3 (Xbox 360)</td>\n",
              "      <td>Gry i konsole;Gry na konsole;Gry Xbox 360</td>\n",
              "      <td>49.99</td>\n",
              "    </tr>\n",
              "    <tr>\n",
              "      <th>4</th>\n",
              "      <td>1005</td>\n",
              "      <td>Szalone Króliki Na żywo i w kolorze (Xbox 360)</td>\n",
              "      <td>Gry i konsole;Gry na konsole;Gry Xbox 360</td>\n",
              "      <td>49.99</td>\n",
              "    </tr>\n",
              "  </tbody>\n",
              "</table>\n",
              "</div>"
            ],
            "text/plain": [
              "   product_id  ...    price\n",
              "0        1001  ...    58.97\n",
              "1        1002  ...  2048.50\n",
              "2        1003  ...  7639.00\n",
              "3        1004  ...    49.99\n",
              "4        1005  ...    49.99\n",
              "\n",
              "[5 rows x 4 columns]"
            ]
          },
          "metadata": {},
          "execution_count": 8
        }
      ]
    },
    {
      "cell_type": "code",
      "metadata": {
        "colab": {
          "base_uri": "https://localhost:8080/",
          "height": 204
        },
        "id": "a_fR-k8FEEJA",
        "outputId": "ddbdb14a-2a11-4ed0-ad4a-4c0415e97906"
      },
      "source": [
        "users.head()"
      ],
      "execution_count": 9,
      "outputs": [
        {
          "output_type": "execute_result",
          "data": {
            "text/html": [
              "<div>\n",
              "<style scoped>\n",
              "    .dataframe tbody tr th:only-of-type {\n",
              "        vertical-align: middle;\n",
              "    }\n",
              "\n",
              "    .dataframe tbody tr th {\n",
              "        vertical-align: top;\n",
              "    }\n",
              "\n",
              "    .dataframe thead th {\n",
              "        text-align: right;\n",
              "    }\n",
              "</style>\n",
              "<table border=\"1\" class=\"dataframe\">\n",
              "  <thead>\n",
              "    <tr style=\"text-align: right;\">\n",
              "      <th></th>\n",
              "      <th>user_id</th>\n",
              "      <th>name</th>\n",
              "      <th>city</th>\n",
              "      <th>street</th>\n",
              "    </tr>\n",
              "  </thead>\n",
              "  <tbody>\n",
              "    <tr>\n",
              "      <th>0</th>\n",
              "      <td>102</td>\n",
              "      <td>Przemysław Hinca</td>\n",
              "      <td>Poznań</td>\n",
              "      <td>ul. Jana Sobieskiego 052</td>\n",
              "    </tr>\n",
              "    <tr>\n",
              "      <th>1</th>\n",
              "      <td>103</td>\n",
              "      <td>Alex Majnusz</td>\n",
              "      <td>Radom</td>\n",
              "      <td>ulica Krzywa 589</td>\n",
              "    </tr>\n",
              "    <tr>\n",
              "      <th>2</th>\n",
              "      <td>104</td>\n",
              "      <td>Dominik Jeske</td>\n",
              "      <td>Gdynia</td>\n",
              "      <td>pl. Zwycięstwa 75/14</td>\n",
              "    </tr>\n",
              "    <tr>\n",
              "      <th>3</th>\n",
              "      <td>105</td>\n",
              "      <td>Kaja Pielka</td>\n",
              "      <td>Wrocław</td>\n",
              "      <td>ul. Kusocińskiego 80</td>\n",
              "    </tr>\n",
              "    <tr>\n",
              "      <th>4</th>\n",
              "      <td>106</td>\n",
              "      <td>Marika Budzich</td>\n",
              "      <td>Wrocław</td>\n",
              "      <td>aleja Borowa 77</td>\n",
              "    </tr>\n",
              "  </tbody>\n",
              "</table>\n",
              "</div>"
            ],
            "text/plain": [
              "   user_id              name     city                    street\n",
              "0      102  Przemysław Hinca   Poznań  ul. Jana Sobieskiego 052\n",
              "1      103      Alex Majnusz    Radom          ulica Krzywa 589\n",
              "2      104     Dominik Jeske   Gdynia      pl. Zwycięstwa 75/14\n",
              "3      105       Kaja Pielka  Wrocław      ul. Kusocińskiego 80\n",
              "4      106    Marika Budzich  Wrocław           aleja Borowa 77"
            ]
          },
          "metadata": {},
          "execution_count": 9
        }
      ]
    },
    {
      "cell_type": "code",
      "metadata": {
        "id": "kVA4R5upU5fl"
      },
      "source": [
        "deliveries['delivery_timestamp'] = deliveries['delivery_timestamp'].apply(lambda x: pd.to_datetime(x))\n",
        "deliveries['purchase_timestamp'] = deliveries['purchase_timestamp'].apply(lambda x: pd.to_datetime(x))"
      ],
      "execution_count": 13,
      "outputs": []
    },
    {
      "cell_type": "code",
      "metadata": {
        "id": "jNrGsdrXYCpJ"
      },
      "source": [
        "deliveries['diff_date'] = deliveries['delivery_timestamp'] - deliveries['purchase_timestamp']\n",
        "deliveries['diff_date'] = deliveries['diff_date'].apply(lambda x: (x.total_seconds()/(60*60*24)))"
      ],
      "execution_count": 21,
      "outputs": []
    },
    {
      "cell_type": "code",
      "metadata": {
        "colab": {
          "base_uri": "https://localhost:8080/",
          "height": 497
        },
        "id": "AyBbjp_pYn9t",
        "outputId": "89dae617-66ab-4d65-8a11-78346a210177"
      },
      "source": [
        "plt.figure(figsize=(12,8))\n",
        "sns.histplot(data=deliveries, x='diff_date', binwidth=1)\n",
        "plt.xlabel(\"delivery time(days)\")\n",
        "plt.show()"
      ],
      "execution_count": 23,
      "outputs": [
        {
          "output_type": "display_data",
          "data": {
            "image/png": "[encoded data removed]",
            "text/plain": [
              "<Figure size 864x576 with 1 Axes>"
            ]
          },
          "metadata": {
            "needs_background": "light"
          }
        }
      ]
    },
    {
      "cell_type": "code",
      "metadata": {
        "id": "xigJ6749bkFA"
      },
      "source": [
        "sessions = sessions[sessions['event_type'] == 'BUY_PRODUCT']"
      ],
      "execution_count": 11,
      "outputs": []
    },
    {
      "cell_type": "code",
      "metadata": {
        "id": "igwsvARecxiV"
      },
      "source": [
        "deliveries['month'] = deliveries['delivery_timestamp'].apply(lambda x: x.month)"
      ],
      "execution_count": 15,
      "outputs": []
    },
    {
      "cell_type": "markdown",
      "metadata": {
        "id": "bBM4bdMwgcyu"
      },
      "source": [
        "#BRAK MIESIĘCY DLA LISTOPADA I GRUDNIA"
      ]
    },
    {
      "cell_type": "code",
      "metadata": {
        "colab": {
          "base_uri": "https://localhost:8080/"
        },
        "id": "RUyUJCRVerOs",
        "outputId": "1ac0f312-c9b0-499d-8be5-8394bed6eece"
      },
      "source": [
        "deliveries['month'].describe()"
      ],
      "execution_count": 20,
      "outputs": [
        {
          "output_type": "execute_result",
          "data": {
            "text/plain": [
              "count    6901.000000\n",
              "mean        5.544269\n",
              "std         2.849453\n",
              "min         1.000000\n",
              "25%         3.000000\n",
              "50%         6.000000\n",
              "75%         8.000000\n",
              "max        10.000000\n",
              "Name: month, dtype: float64"
            ]
          },
          "metadata": {},
          "execution_count": 20
        }
      ]
    },
    {
      "cell_type": "code",
      "metadata": {
        "id": "9oPisvkdhiLV"
      },
      "source": [
        "all_info = deliveries.merge(sessions.merge(products, on='product_id', how='left'), on='purchase_id', how='left')\n",
        "all_info = all_info.merge(users, on='user_id', how='left')"
      ],
      "execution_count": 46,
      "outputs": []
    },
    {
      "cell_type": "code",
      "metadata": {
        "colab": {
          "base_uri": "https://localhost:8080/",
          "height": 497
        },
        "id": "o-QUgfckicoI",
        "outputId": "fefe0e4d-b685-4324-dbfd-b0e378e261c8"
      },
      "source": [
        "plt.figure(figsize=(12,8))\n",
        "sns.countplot(data=all_info, x='month')\n",
        "plt.show()"
      ],
      "execution_count": 37,
      "outputs": [
        {
          "output_type": "display_data",
          "data": {
            "image/png": "[encoded data removed]",
            "text/plain": [
              "<Figure size 864x576 with 1 Axes>"
            ]
          },
          "metadata": {
            "needs_background": "light"
          }
        }
      ]
    },
    {
      "cell_type": "code",
      "metadata": {
        "colab": {
          "base_uri": "https://localhost:8080/",
          "height": 477
        },
        "id": "R9wxTzifipkv",
        "outputId": "bbb3e1fe-732d-4c75-c8bb-e8d72eb67f34"
      },
      "source": [
        "plt.figure(figsize=(30,8))\n",
        "sns.countplot(data=all_info, x='category_path')\n",
        "plt.show()"
      ],
      "execution_count": 35,
      "outputs": [
        {
          "output_type": "display_data",
          "data": {
            "image/png": "[encoded data removed]",
            "text/plain": [
              "<Figure size 2160x576 with 1 Axes>"
            ]
          },
          "metadata": {
            "needs_background": "light"
          }
        }
      ]
    },
    {
      "cell_type": "code",
      "metadata": {
        "colab": {
          "base_uri": "https://localhost:8080/",
          "height": 499
        },
        "id": "0NiWyWNLjOZ3",
        "outputId": "c4374fa4-30dd-4b45-a574-d5a87c59ba30"
      },
      "source": [
        "plt.figure(figsize=(12,8))\n",
        "sns.boxplot(data=all_info, x='category_path', y='diff_date')\n",
        "plt.show()"
      ],
      "execution_count": 40,
      "outputs": [
        {
          "output_type": "display_data",
          "data": {
            "image/png": "[encoded data removed]",
            "text/plain": [
              "<Figure size 864x576 with 1 Axes>"
            ]
          },
          "metadata": {
            "needs_background": "light"
          }
        }
      ]
    },
    {
      "cell_type": "code",
      "metadata": {
        "colab": {
          "base_uri": "https://localhost:8080/",
          "height": 498
        },
        "id": "vOk3kya7kfUL",
        "outputId": "0b0e51c8-7fe4-4e5d-afb0-8559f18eba02"
      },
      "source": [
        "plt.figure(figsize=(12,8))\n",
        "sns.boxplot(data=all_info, x='delivery_company', y='diff_date')\n",
        "plt.show()"
      ],
      "execution_count": 41,
      "outputs": [
        {
          "output_type": "display_data",
          "data": {
            "image/png": "[encoded data removed]",
            "text/plain": [
              "<Figure size 864x576 with 1 Axes>"
            ]
          },
          "metadata": {
            "needs_background": "light"
          }
        }
      ]
    },
    {
      "cell_type": "code",
      "metadata": {
        "colab": {
          "base_uri": "https://localhost:8080/",
          "height": 497
        },
        "id": "1JaDkCZclS8F",
        "outputId": "23b4cfc8-6a0d-431d-8692-ab390c9f98c9"
      },
      "source": [
        "plt.figure(figsize=(12,8))\n",
        "sns.countplot(data=all_info, x='city')\n",
        "plt.show()"
      ],
      "execution_count": 47,
      "outputs": [
        {
          "output_type": "display_data",
          "data": {
            "image/png": "[encoded data removed]",
            "text/plain": [
              "<Figure size 864x576 with 1 Axes>"
            ]
          },
          "metadata": {
            "needs_background": "light"
          }
        }
      ]
    },
    {
      "cell_type": "code",
      "metadata": {
        "colab": {
          "base_uri": "https://localhost:8080/",
          "height": 497
        },
        "id": "OF8yqSzuljCy",
        "outputId": "a14b03f4-8c5b-4b8d-bf44-f18841599f85"
      },
      "source": [
        "plt.figure(figsize=(12,8))\n",
        "sns.boxplot(data=all_info, x='city', y='diff_date')\n",
        "plt.show()"
      ],
      "execution_count": 48,
      "outputs": [
        {
          "output_type": "display_data",
          "data": {
            "image/png": "[encoded data removed]",
            "text/plain": [
              "<Figure size 864x576 with 1 Axes>"
            ]
          },
          "metadata": {
            "needs_background": "light"
          }
        }
      ]
    },
    {
      "cell_type": "code",
      "metadata": {
        "id": "-pZwRrq9lp9O"
      },
      "source": [
        ""
      ],
      "execution_count": null,
      "outputs": []
    }
  ]
}