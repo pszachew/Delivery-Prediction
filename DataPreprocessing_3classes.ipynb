{
  "cells": [
    {
      "cell_type": "markdown",
      "metadata": {
        "colab_type": "text",
        "id": "view-in-github"
      },
      "source": [
        "<a href=\"https://colab.research.google.com/github/pszachew/Delivery-Prediction/blob/master/DataPreprocessing_3classes.ipynb\" target=\"_parent\"><img src=\"https://colab.research.google.com/assets/colab-badge.svg\" alt=\"Open In Colab\"/></a>"
      ]
    },
    {
      "cell_type": "code",
      "execution_count": 25,
      "metadata": {
        "id": "GQz7sTcRJ6bG"
      },
      "outputs": [],
      "source": [
        "import pandas as pd\n",
        "import seaborn as sns\n",
        "import matplotlib.pyplot as plt\n",
        "import numpy as np\n",
        "import datetime\n",
        "import seaborn as sns\n",
        "import joblib"
      ]
    },
    {
      "cell_type": "code",
      "execution_count": 26,
      "metadata": {
        "id": "mJYIzzqnAzb8"
      },
      "outputs": [],
      "source": [
        "def get_preprocess():\n",
        "  deliveries = pd.read_json('https://raw.githubusercontent.com/pszachew/Delivery-Prediction/master/data_v2/deliveries.jsonl', lines=True)\n",
        "  sessions = pd.read_json('https://raw.githubusercontent.com/pszachew/Delivery-Prediction/master/data_v2/sessions.jsonl', lines=True)\n",
        "  products = pd.read_json('https://raw.githubusercontent.com/pszachew/Delivery-Prediction/master/data_v2/products.jsonl', lines=True)\n",
        "  users = pd.read_json('https://raw.githubusercontent.com/pszachew/Delivery-Prediction/master/data_v2/users.jsonl', lines=True)\n",
        "  ls=['monday', 'tuesday','wednesday', 'thursday', 'friday', 'saturday', 'sunday']\n",
        "  deliveries['delivery_timestamp'] = deliveries['delivery_timestamp'].apply(lambda x: pd.to_datetime(x))\n",
        "  deliveries['delivery_weekday'] = deliveries['delivery_timestamp'].apply(lambda x: ls[x.weekday()])\n",
        "  deliveries['delivery_day'] = deliveries['delivery_timestamp'].apply(lambda x: datetime.datetime(x.year, x.month, x.day))\n",
        "  deliveries['purchase_timestamp'] = deliveries['purchase_timestamp'].apply(lambda x: pd.to_datetime(x))\n",
        "  deliveries['purchase_weekday'] = deliveries['purchase_timestamp'].apply(lambda x: ls[x.weekday()])\n",
        "  deliveries['purchase_day'] = deliveries['purchase_timestamp'].apply(lambda x: datetime.datetime(x.year, x.month, x.day))\n",
        "  deliveries['diff_days'] = (deliveries['delivery_day'] - deliveries['purchase_day']).apply(lambda x: x.days)\n",
        "  tmp = deliveries['diff_days']\n",
        "  deliveries['purchase_morning'] = deliveries['purchase_timestamp'].apply(lambda x: 1 if x.hour<=14 else 0)\n",
        "  all_info = deliveries.merge(sessions.merge(products, on='product_id', how='left'), on='purchase_id', how='left')\n",
        "  all_info = all_info.merge(users, on='user_id', how='left')\n",
        "  dec_var = [\"delivery_company\", 'diff_days', 'purchase_morning', 'city', 'purchase_weekday']\n",
        "  all_info = all_info.drop(all_info.index[all_info['diff_days'].isin([0,5])], axis=0)\n",
        "  all_info = all_info[dec_var]\n",
        "  city_dum = pd.get_dummies(all_info['city'], drop_first=True)\n",
        "  weekday_dum = pd.get_dummies(all_info['purchase_weekday'], drop_first=True)\n",
        "  delivery_company_dum = pd.get_dummies(all_info['delivery_company'], drop_first=True)\n",
        "  delivery_company_dum = delivery_company_dum.rename(columns={360:'delivery_360', 254:'delivery_254', 516:'delivery_516', 620:'delivery_620'})\n",
        "  all_info.drop('delivery_company', axis=1, inplace=True)\n",
        "  all_info.drop('city', axis=1, inplace=True)\n",
        "  all_info.drop('purchase_weekday', axis=1, inplace=True)\n",
        "  final = pd.concat([all_info, city_dum, delivery_company_dum, weekday_dum], axis=1)\n",
        "  return final.drop('diff_days', axis=1), final['diff_days'], tmp"
      ]
    },
    {
      "cell_type": "markdown",
      "metadata": {
        "id": "cZN8X1aWI0DO"
      },
      "source": [
        "## **Przewidywanie 4 klas. Dni ze zbioru {1,2,3,4}**"
      ]
    },
    {
      "cell_type": "code",
      "execution_count": 3,
      "metadata": {
        "id": "8r0-LGNMDUF5"
      },
      "outputs": [],
      "source": [
        "X, y, tmp = get_preprocess()\n",
        "#y = y.apply(lambda x: 3 if x>3 else x)"
      ]
    },
    {
      "cell_type": "code",
      "execution_count": 4,
      "metadata": {
        "colab": {
          "base_uri": "https://localhost:8080/",
          "height": 554
        },
        "id": "E1GddGlJYBe0",
        "outputId": "cabb59ff-1c74-478f-ae1c-e38e5e44c427"
      },
      "outputs": [
        {
          "name": "stderr",
          "output_type": "stream",
          "text": [
            "/usr/local/lib/python3.7/dist-packages/seaborn/_decorators.py:43: FutureWarning: Pass the following variable as a keyword arg: x. From version 0.12, the only valid positional argument will be `data`, and passing other arguments without an explicit keyword will result in an error or misinterpretation.\n",
            "  FutureWarning\n"
          ]
        },
        {
          "data": {
            "image/png": "[encoded data removed]",
            "text/plain": [
              "<Figure size 864x576 with 1 Axes>"
            ]
          },
          "metadata": {
            "needs_background": "light"
          },
          "output_type": "display_data"
        }
      ],
      "source": [
        "plt.figure(figsize=(12,8))\n",
        "ax = sns.countplot(y)\n",
        "for p in ax.patches:\n",
        "   ax.annotate('{:.1f}'.format(p.get_height()), (p.get_x()+0.25, p.get_height()+0.01))\n",
        "plt.show()"
      ]
    },
    {
      "cell_type": "code",
      "execution_count": 5,
      "metadata": {
        "colab": {
          "base_uri": "https://localhost:8080/",
          "height": 423
        },
        "id": "xuvwVyUwmPuX",
        "outputId": "bee8d9d4-7eaf-4da2-938d-6533267d4dbd"
      },
      "outputs": [
        {
          "data": {
            "text/html": [
              "\n",
              "  <div id=\"df-469b169e-c496-4198-8c1a-355b15cfab13\">\n",
              "    <div class=\"colab-df-container\">\n",
              "      <div>\n",
              "<style scoped>\n",
              "    .dataframe tbody tr th:only-of-type {\n",
              "        vertical-align: middle;\n",
              "    }\n",
              "\n",
              "    .dataframe tbody tr th {\n",
              "        vertical-align: top;\n",
              "    }\n",
              "\n",
              "    .dataframe thead th {\n",
              "        text-align: right;\n",
              "    }\n",
              "</style>\n",
              "<table border=\"1\" class=\"dataframe\">\n",
              "  <thead>\n",
              "    <tr style=\"text-align: right;\">\n",
              "      <th></th>\n",
              "      <th>purchase_morning</th>\n",
              "      <th>Kraków</th>\n",
              "      <th>Poznań</th>\n",
              "      <th>Radom</th>\n",
              "      <th>Szczecin</th>\n",
              "      <th>Warszawa</th>\n",
              "      <th>Wrocław</th>\n",
              "      <th>delivery_360</th>\n",
              "      <th>delivery_516</th>\n",
              "      <th>delivery_620</th>\n",
              "      <th>monday</th>\n",
              "      <th>saturday</th>\n",
              "      <th>sunday</th>\n",
              "      <th>thursday</th>\n",
              "      <th>tuesday</th>\n",
              "      <th>wednesday</th>\n",
              "    </tr>\n",
              "  </thead>\n",
              "  <tbody>\n",
              "    <tr>\n",
              "      <th>0</th>\n",
              "      <td>1</td>\n",
              "      <td>0</td>\n",
              "      <td>0</td>\n",
              "      <td>0</td>\n",
              "      <td>0</td>\n",
              "      <td>1</td>\n",
              "      <td>0</td>\n",
              "      <td>0</td>\n",
              "      <td>1</td>\n",
              "      <td>0</td>\n",
              "      <td>0</td>\n",
              "      <td>0</td>\n",
              "      <td>0</td>\n",
              "      <td>0</td>\n",
              "      <td>1</td>\n",
              "      <td>0</td>\n",
              "    </tr>\n",
              "    <tr>\n",
              "      <th>1</th>\n",
              "      <td>0</td>\n",
              "      <td>0</td>\n",
              "      <td>0</td>\n",
              "      <td>0</td>\n",
              "      <td>0</td>\n",
              "      <td>1</td>\n",
              "      <td>0</td>\n",
              "      <td>0</td>\n",
              "      <td>0</td>\n",
              "      <td>0</td>\n",
              "      <td>1</td>\n",
              "      <td>0</td>\n",
              "      <td>0</td>\n",
              "      <td>0</td>\n",
              "      <td>0</td>\n",
              "      <td>0</td>\n",
              "    </tr>\n",
              "    <tr>\n",
              "      <th>2</th>\n",
              "      <td>0</td>\n",
              "      <td>0</td>\n",
              "      <td>0</td>\n",
              "      <td>0</td>\n",
              "      <td>0</td>\n",
              "      <td>1</td>\n",
              "      <td>0</td>\n",
              "      <td>0</td>\n",
              "      <td>1</td>\n",
              "      <td>0</td>\n",
              "      <td>0</td>\n",
              "      <td>0</td>\n",
              "      <td>0</td>\n",
              "      <td>0</td>\n",
              "      <td>0</td>\n",
              "      <td>0</td>\n",
              "    </tr>\n",
              "    <tr>\n",
              "      <th>3</th>\n",
              "      <td>1</td>\n",
              "      <td>0</td>\n",
              "      <td>0</td>\n",
              "      <td>0</td>\n",
              "      <td>0</td>\n",
              "      <td>1</td>\n",
              "      <td>0</td>\n",
              "      <td>1</td>\n",
              "      <td>0</td>\n",
              "      <td>0</td>\n",
              "      <td>0</td>\n",
              "      <td>0</td>\n",
              "      <td>0</td>\n",
              "      <td>0</td>\n",
              "      <td>0</td>\n",
              "      <td>1</td>\n",
              "    </tr>\n",
              "    <tr>\n",
              "      <th>4</th>\n",
              "      <td>1</td>\n",
              "      <td>0</td>\n",
              "      <td>0</td>\n",
              "      <td>0</td>\n",
              "      <td>0</td>\n",
              "      <td>1</td>\n",
              "      <td>0</td>\n",
              "      <td>0</td>\n",
              "      <td>1</td>\n",
              "      <td>0</td>\n",
              "      <td>1</td>\n",
              "      <td>0</td>\n",
              "      <td>0</td>\n",
              "      <td>0</td>\n",
              "      <td>0</td>\n",
              "      <td>0</td>\n",
              "    </tr>\n",
              "    <tr>\n",
              "      <th>...</th>\n",
              "      <td>...</td>\n",
              "      <td>...</td>\n",
              "      <td>...</td>\n",
              "      <td>...</td>\n",
              "      <td>...</td>\n",
              "      <td>...</td>\n",
              "      <td>...</td>\n",
              "      <td>...</td>\n",
              "      <td>...</td>\n",
              "      <td>...</td>\n",
              "      <td>...</td>\n",
              "      <td>...</td>\n",
              "      <td>...</td>\n",
              "      <td>...</td>\n",
              "      <td>...</td>\n",
              "      <td>...</td>\n",
              "    </tr>\n",
              "    <tr>\n",
              "      <th>13755</th>\n",
              "      <td>1</td>\n",
              "      <td>0</td>\n",
              "      <td>0</td>\n",
              "      <td>0</td>\n",
              "      <td>1</td>\n",
              "      <td>0</td>\n",
              "      <td>0</td>\n",
              "      <td>0</td>\n",
              "      <td>1</td>\n",
              "      <td>0</td>\n",
              "      <td>0</td>\n",
              "      <td>0</td>\n",
              "      <td>0</td>\n",
              "      <td>0</td>\n",
              "      <td>0</td>\n",
              "      <td>0</td>\n",
              "    </tr>\n",
              "    <tr>\n",
              "      <th>13756</th>\n",
              "      <td>1</td>\n",
              "      <td>0</td>\n",
              "      <td>0</td>\n",
              "      <td>0</td>\n",
              "      <td>1</td>\n",
              "      <td>0</td>\n",
              "      <td>0</td>\n",
              "      <td>0</td>\n",
              "      <td>0</td>\n",
              "      <td>1</td>\n",
              "      <td>0</td>\n",
              "      <td>0</td>\n",
              "      <td>0</td>\n",
              "      <td>1</td>\n",
              "      <td>0</td>\n",
              "      <td>0</td>\n",
              "    </tr>\n",
              "    <tr>\n",
              "      <th>13757</th>\n",
              "      <td>0</td>\n",
              "      <td>0</td>\n",
              "      <td>0</td>\n",
              "      <td>0</td>\n",
              "      <td>1</td>\n",
              "      <td>0</td>\n",
              "      <td>0</td>\n",
              "      <td>0</td>\n",
              "      <td>0</td>\n",
              "      <td>1</td>\n",
              "      <td>0</td>\n",
              "      <td>0</td>\n",
              "      <td>0</td>\n",
              "      <td>0</td>\n",
              "      <td>0</td>\n",
              "      <td>1</td>\n",
              "    </tr>\n",
              "    <tr>\n",
              "      <th>13758</th>\n",
              "      <td>1</td>\n",
              "      <td>0</td>\n",
              "      <td>0</td>\n",
              "      <td>0</td>\n",
              "      <td>0</td>\n",
              "      <td>0</td>\n",
              "      <td>0</td>\n",
              "      <td>0</td>\n",
              "      <td>0</td>\n",
              "      <td>1</td>\n",
              "      <td>0</td>\n",
              "      <td>0</td>\n",
              "      <td>0</td>\n",
              "      <td>0</td>\n",
              "      <td>1</td>\n",
              "      <td>0</td>\n",
              "    </tr>\n",
              "    <tr>\n",
              "      <th>13759</th>\n",
              "      <td>1</td>\n",
              "      <td>0</td>\n",
              "      <td>0</td>\n",
              "      <td>0</td>\n",
              "      <td>0</td>\n",
              "      <td>0</td>\n",
              "      <td>0</td>\n",
              "      <td>0</td>\n",
              "      <td>0</td>\n",
              "      <td>1</td>\n",
              "      <td>0</td>\n",
              "      <td>0</td>\n",
              "      <td>0</td>\n",
              "      <td>0</td>\n",
              "      <td>0</td>\n",
              "      <td>0</td>\n",
              "    </tr>\n",
              "  </tbody>\n",
              "</table>\n",
              "<p>13639 rows × 16 columns</p>\n",
              "</div>\n",
              "      <button class=\"colab-df-convert\" onclick=\"convertToInteractive('df-469b169e-c496-4198-8c1a-355b15cfab13')\"\n",
              "              title=\"Convert this dataframe to an interactive table.\"\n",
              "              style=\"display:none;\">\n",
              "        \n",
              "  <svg xmlns=\"http://www.w3.org/2000/svg\" height=\"24px\"viewBox=\"0 0 24 24\"\n",
              "       width=\"24px\">\n",
              "    <path d=\"M0 0h24v24H0V0z\" fill=\"none\"/>\n",
              "    <path d=\"M18.56 5.44l.94 2.06.94-2.06 2.06-.94-2.06-.94-.94-2.06-.94 2.06-2.06.94zm-11 1L8.5 8.5l.94-2.06 2.06-.94-2.06-.94L8.5 2.5l-.94 2.06-2.06.94zm10 10l.94 2.06.94-2.06 2.06-.94-2.06-.94-.94-2.06-.94 2.06-2.06.94z\"/><path d=\"M17.41 7.96l-1.37-1.37c-.4-.4-.92-.59-1.43-.59-.52 0-1.04.2-1.43.59L10.3 9.45l-7.72 7.72c-.78.78-.78 2.05 0 2.83L4 21.41c.39.39.9.59 1.41.59.51 0 1.02-.2 1.41-.59l7.78-7.78 2.81-2.81c.8-.78.8-2.07 0-2.86zM5.41 20L4 18.59l7.72-7.72 1.47 1.35L5.41 20z\"/>\n",
              "  </svg>\n",
              "      </button>\n",
              "      \n",
              "  <style>\n",
              "    .colab-df-container {\n",
              "      display:flex;\n",
              "      flex-wrap:wrap;\n",
              "      gap: 12px;\n",
              "    }\n",
              "\n",
              "    .colab-df-convert {\n",
              "      background-color: #E8F0FE;\n",
              "      border: none;\n",
              "      border-radius: 50%;\n",
              "      cursor: pointer;\n",
              "      display: none;\n",
              "      fill: #1967D2;\n",
              "      height: 32px;\n",
              "      padding: 0 0 0 0;\n",
              "      width: 32px;\n",
              "    }\n",
              "\n",
              "    .colab-df-convert:hover {\n",
              "      background-color: #E2EBFA;\n",
              "      box-shadow: 0px 1px 2px rgba(60, 64, 67, 0.3), 0px 1px 3px 1px rgba(60, 64, 67, 0.15);\n",
              "      fill: #174EA6;\n",
              "    }\n",
              "\n",
              "    [theme=dark] .colab-df-convert {\n",
              "      background-color: #3B4455;\n",
              "      fill: #D2E3FC;\n",
              "    }\n",
              "\n",
              "    [theme=dark] .colab-df-convert:hover {\n",
              "      background-color: #434B5C;\n",
              "      box-shadow: 0px 1px 3px 1px rgba(0, 0, 0, 0.15);\n",
              "      filter: drop-shadow(0px 1px 2px rgba(0, 0, 0, 0.3));\n",
              "      fill: #FFFFFF;\n",
              "    }\n",
              "  </style>\n",
              "\n",
              "      <script>\n",
              "        const buttonEl =\n",
              "          document.querySelector('#df-469b169e-c496-4198-8c1a-355b15cfab13 button.colab-df-convert');\n",
              "        buttonEl.style.display =\n",
              "          google.colab.kernel.accessAllowed ? 'block' : 'none';\n",
              "\n",
              "        async function convertToInteractive(key) {\n",
              "          const element = document.querySelector('#df-469b169e-c496-4198-8c1a-355b15cfab13');\n",
              "          const dataTable =\n",
              "            await google.colab.kernel.invokeFunction('convertToInteractive',\n",
              "                                                     [key], {});\n",
              "          if (!dataTable) return;\n",
              "\n",
              "          const docLinkHtml = 'Like what you see? Visit the ' +\n",
              "            '<a target=\"_blank\" href=https://colab.research.google.com/notebooks/data_table.ipynb>data table notebook</a>'\n",
              "            + ' to learn more about interactive tables.';\n",
              "          element.innerHTML = '';\n",
              "          dataTable['output_type'] = 'display_data';\n",
              "          await google.colab.output.renderOutput(dataTable, element);\n",
              "          const docLink = document.createElement('div');\n",
              "          docLink.innerHTML = docLinkHtml;\n",
              "          element.appendChild(docLink);\n",
              "        }\n",
              "      </script>\n",
              "    </div>\n",
              "  </div>\n",
              "  "
            ],
            "text/plain": [
              "       purchase_morning  Kraków  Poznań  ...  thursday  tuesday  wednesday\n",
              "0                     1       0       0  ...         0        1          0\n",
              "1                     0       0       0  ...         0        0          0\n",
              "2                     0       0       0  ...         0        0          0\n",
              "3                     1       0       0  ...         0        0          1\n",
              "4                     1       0       0  ...         0        0          0\n",
              "...                 ...     ...     ...  ...       ...      ...        ...\n",
              "13755                 1       0       0  ...         0        0          0\n",
              "13756                 1       0       0  ...         1        0          0\n",
              "13757                 0       0       0  ...         0        0          1\n",
              "13758                 1       0       0  ...         0        1          0\n",
              "13759                 1       0       0  ...         0        0          0\n",
              "\n",
              "[13639 rows x 16 columns]"
            ]
          },
          "execution_count": 5,
          "metadata": {},
          "output_type": "execute_result"
        }
      ],
      "source": [
        "X"
      ]
    },
    {
      "cell_type": "markdown",
      "metadata": {
        "id": "mxhuy0uvj6Jh"
      },
      "source": [
        "## **Logistic Regression**"
      ]
    },
    {
      "cell_type": "code",
      "execution_count": 6,
      "metadata": {
        "id": "wDQ-ZQEfh637"
      },
      "outputs": [],
      "source": [
        "from sklearn.linear_model import LogisticRegression\n",
        "from sklearn.model_selection import train_test_split\n",
        "from sklearn.metrics import confusion_matrix, accuracy_score, classification_report"
      ]
    },
    {
      "cell_type": "code",
      "execution_count": 7,
      "metadata": {
        "id": "0BCvhdNOiDVU"
      },
      "outputs": [],
      "source": [
        "X_train, X_test, y_train, y_test = train_test_split(X, y, test_size=0.33, random_state=1)"
      ]
    },
    {
      "cell_type": "code",
      "execution_count": 8,
      "metadata": {
        "colab": {
          "base_uri": "https://localhost:8080/"
        },
        "id": "lUoSO6pAiezX",
        "outputId": "f47c3813-7af4-4632-b6f4-0559bfe869d8"
      },
      "outputs": [
        {
          "name": "stdout",
          "output_type": "stream",
          "text": [
            "0.7433903576982893\n",
            "              precision    recall  f1-score   support\n",
            "\n",
            "           1       0.74      0.58      0.65       556\n",
            "           2       0.72      0.80      0.76      2028\n",
            "           3       0.77      0.76      0.77      1611\n",
            "           4       0.79      0.55      0.65       306\n",
            "\n",
            "    accuracy                           0.74      4501\n",
            "   macro avg       0.76      0.67      0.71      4501\n",
            "weighted avg       0.75      0.74      0.74      4501\n",
            "\n"
          ]
        }
      ],
      "source": [
        "model = LogisticRegression(max_iter=1000)\n",
        "model.fit(X_train, y_train)\n",
        "y_pre = model.predict(X_test)\n",
        "print(accuracy_score(y_test, y_pre))\n",
        "print(classification_report(y_test, y_pre))"
      ]
    },
    {
      "cell_type": "code",
      "execution_count": 9,
      "metadata": {
        "id": "6o6IkQyw1bXq"
      },
      "outputs": [],
      "source": [
        "cm = confusion_matrix(y_test, y_pre)"
      ]
    },
    {
      "cell_type": "code",
      "execution_count": 10,
      "metadata": {
        "colab": {
          "base_uri": "https://localhost:8080/"
        },
        "id": "VSZE6FTE2U80",
        "outputId": "014a6b06-665f-403a-beaf-5f01f98c3a90"
      },
      "outputs": [
        {
          "name": "stdout",
          "output_type": "stream",
          "text": [
            "[[ 323  202   31    0]\n",
            " [  87 1624  272   45]\n",
            " [  24  356 1231    0]\n",
            " [   0   73   65  168]]\n"
          ]
        }
      ],
      "source": [
        "print(cm)"
      ]
    },
    {
      "cell_type": "code",
      "execution_count": 11,
      "metadata": {
        "colab": {
          "base_uri": "https://localhost:8080/",
          "height": 500
        },
        "id": "Vnr_iB3wKFH7",
        "outputId": "1ff30ead-d39b-4aff-fd37-16a610b23115"
      },
      "outputs": [
        {
          "data": {
            "image/png": "[encoded data removed]",
            "text/plain": [
              "<Figure size 864x576 with 2 Axes>"
            ]
          },
          "metadata": {
            "needs_background": "light"
          },
          "output_type": "display_data"
        }
      ],
      "source": [
        "cm2 = confusion_matrix(y_test, y_pre, normalize='true')\n",
        "cm2 = pd.DataFrame(cm2, index=[1,2,3,4], columns=[1,2,3,4])\n",
        "plt.figure(figsize=(12,8))\n",
        "sns.heatmap(cm2, annot=True, linewidths=.5, cmap=\"YlGnBu\")\n",
        "plt.xlabel(\"predicted delivery days amount\")\n",
        "plt.ylabel(\"real delivery days amount\")\n",
        "plt.show()"
      ]
    },
    {
      "cell_type": "markdown",
      "metadata": {
        "id": "IvCwSHgCKJj9"
      },
      "source": [
        "Dostawy, które zajęły 4 dni nie są zbyt dobre - połowa z nich faktycznie zostanie dostarczona po 4 dniach, a cała reszta rozłoży się równomiernie dla 2 i 3 dni. Najlepszym sposobem jest połączenie klasy 4 z 3 - wówczas 3 dni będzie oznaczało, że 3 lub 4."
      ]
    },
    {
      "cell_type": "markdown",
      "metadata": {
        "id": "Y-Nn1uhej_XG"
      },
      "source": [
        "## **Przewidywanie 3 klas - dni ze zbioru {1,2,3}**"
      ]
    },
    {
      "cell_type": "markdown",
      "metadata": {
        "id": "KjLyNyLML4rc"
      },
      "source": [
        "## **Pierwszy model Regresja Logistyczna**"
      ]
    },
    {
      "cell_type": "code",
      "execution_count": 27,
      "metadata": {
        "id": "yFO9b45HLYsf"
      },
      "outputs": [],
      "source": [
        "X, y, tmp = get_preprocess()\n",
        "y = y.apply(lambda x: 3 if x>3 else x)"
      ]
    },
    {
      "cell_type": "code",
      "execution_count": 28,
      "metadata": {
        "id": "splGKeIuMFgu"
      },
      "outputs": [],
      "source": [
        "X_train, X_test, y_train, y_test = train_test_split(X, y, test_size=0.33, random_state=1)"
      ]
    },
    {
      "cell_type": "code",
      "execution_count": 14,
      "metadata": {
        "colab": {
          "base_uri": "https://localhost:8080/"
        },
        "id": "o4niuRSNMIR-",
        "outputId": "882e8b77-2af3-4a20-9a66-c5116455378d"
      },
      "outputs": [
        {
          "name": "stdout",
          "output_type": "stream",
          "text": [
            "0.7573872472783826\n",
            "              precision    recall  f1-score   support\n",
            "\n",
            "           1       0.74      0.58      0.65       556\n",
            "           2       0.72      0.80      0.76      2028\n",
            "           3       0.81      0.76      0.78      1917\n",
            "\n",
            "    accuracy                           0.76      4501\n",
            "   macro avg       0.76      0.71      0.73      4501\n",
            "weighted avg       0.76      0.76      0.76      4501\n",
            "\n"
          ]
        }
      ],
      "source": [
        "model = LogisticRegression()\n",
        "model.fit(X_train, y_train)\n",
        "y_pre = model.predict(X_test)\n",
        "print(accuracy_score(y_test, y_pre))\n",
        "print(classification_report(y_test, y_pre))"
      ]
    },
    {
      "cell_type": "code",
      "execution_count": 15,
      "metadata": {
        "id": "jboRgMhQMMTu"
      },
      "outputs": [],
      "source": [
        "cm = confusion_matrix(y_test, y_pre)"
      ]
    },
    {
      "cell_type": "code",
      "execution_count": 16,
      "metadata": {
        "colab": {
          "base_uri": "https://localhost:8080/"
        },
        "id": "ybTg3haTMNKK",
        "outputId": "65ecfb01-3ad2-40be-85c0-d12537ccadf0"
      },
      "outputs": [
        {
          "name": "stdout",
          "output_type": "stream",
          "text": [
            "[[ 323  201   32]\n",
            " [  87 1622  319]\n",
            " [  24  429 1464]]\n"
          ]
        }
      ],
      "source": [
        "print(cm)"
      ]
    },
    {
      "cell_type": "code",
      "execution_count": 17,
      "metadata": {
        "colab": {
          "base_uri": "https://localhost:8080/",
          "height": 496
        },
        "id": "gKvPsuvbMOR6",
        "outputId": "9e907ebc-034d-4ee6-c347-e9b42a657f58"
      },
      "outputs": [
        {
          "data": {
            "image/png": "[encoded data removed]",
            "text/plain": [
              "<Figure size 864x576 with 2 Axes>"
            ]
          },
          "metadata": {
            "needs_background": "light"
          },
          "output_type": "display_data"
        }
      ],
      "source": [
        "cm2 = confusion_matrix(y_test, y_pre, normalize='true')\n",
        "cm2 = pd.DataFrame(cm2, index=[1,2,3], columns=[1,2,3])\n",
        "plt.figure(figsize=(12,8))\n",
        "sns.heatmap(cm2, annot=True, linewidths=.5, cmap=\"YlGnBu\")\n",
        "plt.xlabel(\"predicted delivery days amount\")\n",
        "plt.ylabel(\"real delivery days amount\")\n",
        "plt.show()"
      ]
    },
    {
      "cell_type": "code",
      "execution_count": 19,
      "metadata": {
        "colab": {
          "base_uri": "https://localhost:8080/"
        },
        "id": "bcVIudmnd1fL",
        "outputId": "f7f781dc-4cd3-4e1e-d1a3-d9be0d8e5149"
      },
      "outputs": [
        {
          "data": {
            "text/plain": [
              "['logiscit_regression.sav']"
            ]
          },
          "execution_count": 19,
          "metadata": {},
          "output_type": "execute_result"
        }
      ],
      "source": [
        "joblib.dump(model, \"logiscit_regression.sav\")"
      ]
    },
    {
      "cell_type": "markdown",
      "metadata": {
        "id": "YKapCpI_Z0TI"
      },
      "source": [
        "Na powyższym diagramie widać, że model jest w stanie przewidywać dzień dostawy z dokładnością oscylującą w okolicach 80% dla dwóch i trzech dni. Dla dostaw trwających 1 dzień ta dokładność była mniejsza i wynosiła jedynie 58%.\n",
        "\n",
        "Warto tutaj zwrócić uwagę, że różnica pomiędzy predykcją, a rzeczywistym czasem dostawy w praktyce nie przekracza jednego dnia."
      ]
    },
    {
      "cell_type": "markdown",
      "metadata": {
        "id": "1hui029ijUmx"
      },
      "source": [
        "# Walidacja Krzyżowa Regresji Logistycznej"
      ]
    },
    {
      "cell_type": "code",
      "execution_count": 21,
      "metadata": {
        "id": "41zGBD-jhTwm"
      },
      "outputs": [],
      "source": [
        "from sklearn.model_selection import StratifiedKFold"
      ]
    },
    {
      "cell_type": "code",
      "execution_count": 44,
      "metadata": {
        "colab": {
          "base_uri": "https://localhost:8080/"
        },
        "id": "X4Qx7h1BhJ-k",
        "outputId": "85c9d430-854f-4a0c-a287-380fde3d0b4a"
      },
      "outputs": [
        {
          "name": "stdout",
          "output_type": "stream",
          "text": [
            "Dokładność modelu: 0.7521994134897361\n",
            "Dokładność modelu: 0.7576979472140762\n",
            "Dokładność modelu: 0.7598973607038123\n",
            "Dokładność modelu: 0.7521994134897361\n",
            "Dokładność modelu: 0.7447744774477447\n"
          ]
        }
      ],
      "source": [
        "skf = StratifiedKFold(n_splits=5, random_state=10, shuffle=True)\n",
        "for train_index, test_index in skf.split(X, y): \n",
        "  X_train, X_test = X.iloc[train_index], X.iloc[test_index]\n",
        "  y_train, y_test = y.iloc[train_index], y.iloc[test_index]\n",
        "  model = LogisticRegression()\n",
        "  model.fit(X_train, y_train)\n",
        "  y_pre = model.predict(X_test)\n",
        "  print(f\"Dokładność modelu: {accuracy_score(y_test, y_pre)}\")"
      ]
    },
    {
      "cell_type": "markdown",
      "metadata": {
        "id": "m6CLERAalwse"
      },
      "source": [
        "Walidacja krzyżowa 5 krotna udowodniła, że model jest \"stabilny\" a otrzmane wyniki nie są korzystnym wylosowaniem przypadków testowych."
      ]
    },
    {
      "cell_type": "markdown",
      "metadata": {
        "id": "fKaHR7OHK9Je"
      },
      "source": [
        "## **MLPClassifier**"
      ]
    },
    {
      "cell_type": "code",
      "execution_count": 38,
      "metadata": {
        "id": "84_6Rx91Lbc9"
      },
      "outputs": [],
      "source": [
        "from sklearn.neural_network import MLPClassifier"
      ]
    },
    {
      "cell_type": "code",
      "execution_count": null,
      "metadata": {
        "id": "wKDKQciQUBO9"
      },
      "outputs": [],
      "source": [
        "X, y, tmp = get_preprocess()\n",
        "y = y.apply(lambda x: 3 if x>3 else x)\n",
        "X_train, X_test, y_train, y_test = train_test_split(X, y, test_size=0.33, random_state=1)"
      ]
    },
    {
      "cell_type": "code",
      "execution_count": null,
      "metadata": {
        "id": "Ex0EpZ1TUIHZ"
      },
      "outputs": [],
      "source": [
        "MLPclass = MLPClassifier(hidden_layer_sizes=(16,16), random_state=8, activation='relu')\n",
        "MLPclass.fit(X_train, y_train)\n",
        "y_pred = MLPclass.predict(X_test)"
      ]
    },
    {
      "cell_type": "code",
      "execution_count": null,
      "metadata": {
        "colab": {
          "base_uri": "https://localhost:8080/"
        },
        "id": "FbemCNgDUkGq",
        "outputId": "b970acd5-1795-4d68-a3c6-6383ec58c175"
      },
      "outputs": [
        {
          "name": "stdout",
          "output_type": "stream",
          "text": [
            "              precision    recall  f1-score   support\n",
            "\n",
            "           1       0.77      0.63      0.69       556\n",
            "           2       0.75      0.82      0.78      2028\n",
            "           3       0.83      0.78      0.80      1917\n",
            "\n",
            "    accuracy                           0.78      4501\n",
            "   macro avg       0.78      0.75      0.76      4501\n",
            "weighted avg       0.78      0.78      0.78      4501\n",
            "\n"
          ]
        }
      ],
      "source": [
        "print(classification_report(y_test,y_pred))"
      ]
    },
    {
      "cell_type": "code",
      "execution_count": null,
      "metadata": {
        "colab": {
          "base_uri": "https://localhost:8080/"
        },
        "id": "8lvRc2ebnO3n",
        "outputId": "d3e4ca7e-2e62-40be-e3a4-0668a9df0c0a"
      },
      "outputs": [
        {
          "data": {
            "text/plain": [
              "array([[ 352,  170,   34],\n",
              "       [  86, 1662,  280],\n",
              "       [  22,  393, 1502]])"
            ]
          },
          "execution_count": 83,
          "metadata": {},
          "output_type": "execute_result"
        }
      ],
      "source": [
        "confusion_matrix(y_test, y_pred)"
      ]
    },
    {
      "cell_type": "code",
      "execution_count": null,
      "metadata": {
        "colab": {
          "base_uri": "https://localhost:8080/",
          "height": 496
        },
        "id": "YYXsabtPa5wQ",
        "outputId": "1748dadf-3531-4740-b538-477c1a46794c"
      },
      "outputs": [
        {
          "data": {
            "image/png": "[encoded data removed]",
            "text/plain": [
              "<Figure size 864x576 with 2 Axes>"
            ]
          },
          "metadata": {
            "needs_background": "light"
          },
          "output_type": "display_data"
        }
      ],
      "source": [
        "cm2 = confusion_matrix(y_test, y_pred, normalize='true')\n",
        "cm2 = pd.DataFrame(cm2, index=[1,2,3], columns=[1,2,3])\n",
        "plt.figure(figsize=(12,8))\n",
        "sns.heatmap(cm2, annot=True, linewidths=.5, cmap=\"YlGnBu\")\n",
        "plt.xlabel(\"predicted delivery days amount\")\n",
        "plt.ylabel(\"real delivery days amount\")\n",
        "plt.show()"
      ]
    },
    {
      "cell_type": "markdown",
      "metadata": {
        "id": "ele50PfEZ0TL"
      },
      "source": [
        "Na powyższym diagramie przedstawiającym wyniki dla modelu MLP widać, że model jest w stanie przewidywać dzień dostawy z dokładnością oscylującą w okolicach 80% dla dwóch i trzech dni. Dla dostaw trwających 1 dzień ta dokładność była mniejsza i wynosiła jedynie 63%.\n",
        "\n",
        "Różnica pomiędzy predykcją, a rzeczywistym czasem dostawy w praktyce nie przekracza jednego dnia.\n",
        "\n",
        "Wyniki otrzymane przez MLP są lepsze od wyników regresji dla każdego z przypadków.\n",
        "Jest to wytłumaczalne, gdyż regresja logistyczna jest podzbiorem sieci MLP."
      ]
    },
    {
      "cell_type": "markdown",
      "metadata": {
        "id": "mpAeZ4amj-G7"
      },
      "source": [
        "# Walidacja Krzyżowa Sieci MLP"
      ]
    },
    {
      "cell_type": "code",
      "execution_count": 36,
      "metadata": {
        "id": "wLjFZejxkBOr"
      },
      "outputs": [],
      "source": [
        "from sklearn.model_selection import StratifiedKFold"
      ]
    },
    {
      "cell_type": "code",
      "execution_count": 43,
      "metadata": {
        "colab": {
          "base_uri": "https://localhost:8080/"
        },
        "id": "QXC_Pth1kDAM",
        "outputId": "58d1fb4f-9755-446e-891d-79f39cef120d"
      },
      "outputs": [
        {
          "name": "stdout",
          "output_type": "stream",
          "text": [
            "Dokładność modelu: 0.7782258064516129\n",
            "Dokładność modelu: 0.7892228739002932\n",
            "Dokładność modelu: 0.7855571847507331\n",
            "Dokładność modelu: 0.7774926686217009\n",
            "Dokładność modelu: 0.768976897689769\n"
          ]
        }
      ],
      "source": [
        "skf = StratifiedKFold(n_splits=5, random_state=10, shuffle=True)\n",
        "for train_index, test_index in skf.split(X, y): \n",
        "  X_train, X_test = X.iloc[train_index], X.iloc[test_index]\n",
        "  y_train, y_test = y.iloc[train_index], y.iloc[test_index]\n",
        "  MLPclass = MLPClassifier(hidden_layer_sizes=(16,16), random_state=8, activation='relu')\n",
        "  MLPclass.fit(X_train, y_train)\n",
        "  y_pred = MLPclass.predict(X_test)\n",
        "  print(f\"Dokładność modelu: {accuracy_score(y_test, y_pred)}\")"
      ]
    },
    {
      "cell_type": "markdown",
      "metadata": {
        "id": "Xz2kG-Vem4vU"
      },
      "source": [
        "Walidacja krzyżowa 5 krotna udowodniła, że model jest \"stabilny\" a otrzmane wyniki nie są korzystnym wylosowaniem przypadków testowych."
      ]
    }
  ],
  "metadata": {
    "colab": {
      "include_colab_link": true,
      "name": "Untitled13.ipynb",
      "provenance": []
    },
    "kernelspec": {
      "display_name": "Python 3",
      "name": "python3"
    },
    "language_info": {
      "name": "python"
    }
  },
  "nbformat": 4,
  "nbformat_minor": 0
}
