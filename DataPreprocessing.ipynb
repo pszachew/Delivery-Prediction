{
  "nbformat": 4,
  "nbformat_minor": 0,
  "metadata": {
    "colab": {
      "name": "Untitled13.ipynb",
      "provenance": [],
      "authorship_tag": "ABX9TyPh14gVRi2gJVwf5nhVJOzs",
      "include_colab_link": true
    },
    "kernelspec": {
      "name": "python3",
      "display_name": "Python 3"
    },
    "language_info": {
      "name": "python"
    }
  },
  "cells": [
    {
      "cell_type": "markdown",
      "metadata": {
        "id": "view-in-github",
        "colab_type": "text"
      },
      "source": [
        "<a href=\"https://colab.research.google.com/github/pszachew/Delivery-Prediction/blob/master/DataPreprocessing.ipynb\" target=\"_parent\"><img src=\"https://colab.research.google.com/assets/colab-badge.svg\" alt=\"Open In Colab\"/></a>"
      ]
    },
    {
      "cell_type": "code",
      "execution_count": 72,
      "metadata": {
        "id": "GQz7sTcRJ6bG"
      },
      "outputs": [],
      "source": [
        "import pandas as pd\n",
        "import seaborn as sns\n",
        "import matplotlib.pyplot as plt\n",
        "import numpy as np\n",
        "import datetime"
      ]
    },
    {
      "cell_type": "code",
      "source": [
        "deliveries = pd.read_json('https://raw.githubusercontent.com/pszachew/Delivery-Prediction/master/data_v2/deliveries.jsonl', lines=True)\n",
        "sessions = pd.read_json('https://raw.githubusercontent.com/pszachew/Delivery-Prediction/master/data_v2/sessions.jsonl', lines=True)\n",
        "products = pd.read_json('https://raw.githubusercontent.com/pszachew/Delivery-Prediction/master/data_v2/products.jsonl', lines=True)\n",
        "users = pd.read_json('https://raw.githubusercontent.com/pszachew/Delivery-Prediction/master/data_v2/users.jsonl', lines=True)"
      ],
      "metadata": {
        "id": "4Liz1MrZJ9--"
      },
      "execution_count": 73,
      "outputs": []
    },
    {
      "cell_type": "code",
      "source": [
        "deliveries['delivery_timestamp'] = deliveries['delivery_timestamp'].apply(lambda x: pd.to_datetime(x))\n",
        "deliveries['delivery_day'] = deliveries['delivery_timestamp'].apply(lambda x: datetime.datetime(x.year, x.month, x.day))\n",
        "deliveries['purchase_timestamp'] = deliveries['purchase_timestamp'].apply(lambda x: pd.to_datetime(x))\n",
        "deliveries['purchase_day'] = deliveries['purchase_timestamp'].apply(lambda x: datetime.datetime(x.year, x.month, x.day))\n",
        "deliveries['diff_days'] = (deliveries['delivery_day'] - deliveries['purchase_day']).apply(lambda x: x.days)\n",
        "#deliveries['purchase_hour'] = deliveries['purchase_timestamp'].apply(lambda x: x.hour)\n",
        "deliveries['purchase_morning'] = deliveries['purchase_timestamp'].apply(lambda x: 1 if x.hour<=14 else 0)"
      ],
      "metadata": {
        "id": "sFMYhJAmKALB"
      },
      "execution_count": 74,
      "outputs": []
    },
    {
      "cell_type": "code",
      "source": [
        "all_info = deliveries.merge(sessions.merge(products, on='product_id', how='left'), on='purchase_id', how='left')\n",
        "all_info = all_info.merge(users, on='user_id', how='left')"
      ],
      "metadata": {
        "id": "Lt5Z3rKeQiN0"
      },
      "execution_count": 75,
      "outputs": []
    },
    {
      "cell_type": "code",
      "source": [
        "all_info"
      ],
      "metadata": {
        "colab": {
          "base_uri": "https://localhost:8080/",
          "height": 904
        },
        "id": "P2SPo_ipUxF4",
        "outputId": "2f43b3e2-4b6a-4684-d983-735cd48b8ba5"
      },
      "execution_count": 76,
      "outputs": [
        {
          "output_type": "execute_result",
          "data": {
            "text/html": [
              "\n",
              "  <div id=\"df-ed56bdbc-4ac9-42c5-8165-ad5a28ba5a65\">\n",
              "    <div class=\"colab-df-container\">\n",
              "      <div>\n",
              "<style scoped>\n",
              "    .dataframe tbody tr th:only-of-type {\n",
              "        vertical-align: middle;\n",
              "    }\n",
              "\n",
              "    .dataframe tbody tr th {\n",
              "        vertical-align: top;\n",
              "    }\n",
              "\n",
              "    .dataframe thead th {\n",
              "        text-align: right;\n",
              "    }\n",
              "</style>\n",
              "<table border=\"1\" class=\"dataframe\">\n",
              "  <thead>\n",
              "    <tr style=\"text-align: right;\">\n",
              "      <th></th>\n",
              "      <th>purchase_id</th>\n",
              "      <th>purchase_timestamp</th>\n",
              "      <th>delivery_timestamp</th>\n",
              "      <th>delivery_company</th>\n",
              "      <th>delivery_day</th>\n",
              "      <th>purchase_day</th>\n",
              "      <th>diff_days</th>\n",
              "      <th>purchase_morning</th>\n",
              "      <th>session_id</th>\n",
              "      <th>timestamp</th>\n",
              "      <th>user_id</th>\n",
              "      <th>product_id</th>\n",
              "      <th>event_type</th>\n",
              "      <th>offered_discount</th>\n",
              "      <th>product_name</th>\n",
              "      <th>category_path</th>\n",
              "      <th>price</th>\n",
              "      <th>name</th>\n",
              "      <th>city</th>\n",
              "      <th>street</th>\n",
              "    </tr>\n",
              "  </thead>\n",
              "  <tbody>\n",
              "    <tr>\n",
              "      <th>0</th>\n",
              "      <td>20001</td>\n",
              "      <td>2020-10-20 13:00:31</td>\n",
              "      <td>2020-10-23 08:10:14.269281</td>\n",
              "      <td>516</td>\n",
              "      <td>2020-10-23</td>\n",
              "      <td>2020-10-20</td>\n",
              "      <td>3</td>\n",
              "      <td>1</td>\n",
              "      <td>124</td>\n",
              "      <td>2020-10-20 13:00:31</td>\n",
              "      <td>102</td>\n",
              "      <td>1067</td>\n",
              "      <td>BUY_PRODUCT</td>\n",
              "      <td>0</td>\n",
              "      <td>Nokia 3310</td>\n",
              "      <td>Telefony i akcesoria;Telefony komórkowe</td>\n",
              "      <td>207.33</td>\n",
              "      <td>Hubert Rybus</td>\n",
              "      <td>Warszawa</td>\n",
              "      <td>aleja Popiełuszki 640</td>\n",
              "    </tr>\n",
              "    <tr>\n",
              "      <th>1</th>\n",
              "      <td>20002</td>\n",
              "      <td>2021-11-01 16:12:47</td>\n",
              "      <td>2021-11-03 16:54:19.834601</td>\n",
              "      <td>254</td>\n",
              "      <td>2021-11-03</td>\n",
              "      <td>2021-11-01</td>\n",
              "      <td>2</td>\n",
              "      <td>0</td>\n",
              "      <td>127</td>\n",
              "      <td>2021-11-01 16:12:47</td>\n",
              "      <td>102</td>\n",
              "      <td>1001</td>\n",
              "      <td>BUY_PRODUCT</td>\n",
              "      <td>15</td>\n",
              "      <td>Telefon Siemens Gigaset DA310</td>\n",
              "      <td>Telefony i akcesoria;Telefony stacjonarne</td>\n",
              "      <td>58.97</td>\n",
              "      <td>Hubert Rybus</td>\n",
              "      <td>Warszawa</td>\n",
              "      <td>aleja Popiełuszki 640</td>\n",
              "    </tr>\n",
              "    <tr>\n",
              "      <th>2</th>\n",
              "      <td>20003</td>\n",
              "      <td>2020-03-06 22:46:45</td>\n",
              "      <td>2020-03-09 16:00:20.290406</td>\n",
              "      <td>516</td>\n",
              "      <td>2020-03-09</td>\n",
              "      <td>2020-03-06</td>\n",
              "      <td>3</td>\n",
              "      <td>0</td>\n",
              "      <td>128</td>\n",
              "      <td>2020-03-06 22:46:45</td>\n",
              "      <td>102</td>\n",
              "      <td>1013</td>\n",
              "      <td>BUY_PRODUCT</td>\n",
              "      <td>0</td>\n",
              "      <td>LA Noire (Xbox 360)</td>\n",
              "      <td>Gry i konsole;Gry na konsole;Gry Xbox 360</td>\n",
              "      <td>129.99</td>\n",
              "      <td>Hubert Rybus</td>\n",
              "      <td>Warszawa</td>\n",
              "      <td>aleja Popiełuszki 640</td>\n",
              "    </tr>\n",
              "    <tr>\n",
              "      <th>3</th>\n",
              "      <td>20004</td>\n",
              "      <td>2021-02-24 13:03:01</td>\n",
              "      <td>2021-02-26 16:28:43.495509</td>\n",
              "      <td>360</td>\n",
              "      <td>2021-02-26</td>\n",
              "      <td>2021-02-24</td>\n",
              "      <td>2</td>\n",
              "      <td>1</td>\n",
              "      <td>129</td>\n",
              "      <td>2021-02-24 13:03:01</td>\n",
              "      <td>102</td>\n",
              "      <td>1291</td>\n",
              "      <td>BUY_PRODUCT</td>\n",
              "      <td>15</td>\n",
              "      <td>Philips SDV6224</td>\n",
              "      <td>Sprzęt RTV;Video;Telewizory i akcesoria;Anteny...</td>\n",
              "      <td>168.79</td>\n",
              "      <td>Hubert Rybus</td>\n",
              "      <td>Warszawa</td>\n",
              "      <td>aleja Popiełuszki 640</td>\n",
              "    </tr>\n",
              "    <tr>\n",
              "      <th>4</th>\n",
              "      <td>20005</td>\n",
              "      <td>2021-02-01 13:27:28</td>\n",
              "      <td>2021-02-04 08:52:32.414187</td>\n",
              "      <td>516</td>\n",
              "      <td>2021-02-04</td>\n",
              "      <td>2021-02-01</td>\n",
              "      <td>3</td>\n",
              "      <td>1</td>\n",
              "      <td>130</td>\n",
              "      <td>2021-02-01 13:27:28</td>\n",
              "      <td>102</td>\n",
              "      <td>1055</td>\n",
              "      <td>BUY_PRODUCT</td>\n",
              "      <td>20</td>\n",
              "      <td>Call of Duty Modern Warfare 3 (PC)</td>\n",
              "      <td>Gry i konsole;Gry komputerowe</td>\n",
              "      <td>32.99</td>\n",
              "      <td>Hubert Rybus</td>\n",
              "      <td>Warszawa</td>\n",
              "      <td>aleja Popiełuszki 640</td>\n",
              "    </tr>\n",
              "    <tr>\n",
              "      <th>...</th>\n",
              "      <td>...</td>\n",
              "      <td>...</td>\n",
              "      <td>...</td>\n",
              "      <td>...</td>\n",
              "      <td>...</td>\n",
              "      <td>...</td>\n",
              "      <td>...</td>\n",
              "      <td>...</td>\n",
              "      <td>...</td>\n",
              "      <td>...</td>\n",
              "      <td>...</td>\n",
              "      <td>...</td>\n",
              "      <td>...</td>\n",
              "      <td>...</td>\n",
              "      <td>...</td>\n",
              "      <td>...</td>\n",
              "      <td>...</td>\n",
              "      <td>...</td>\n",
              "      <td>...</td>\n",
              "      <td>...</td>\n",
              "    </tr>\n",
              "    <tr>\n",
              "      <th>13755</th>\n",
              "      <td>33756</td>\n",
              "      <td>2021-05-07 09:24:25</td>\n",
              "      <td>2021-05-10 08:23:11.320381</td>\n",
              "      <td>516</td>\n",
              "      <td>2021-05-10</td>\n",
              "      <td>2021-05-07</td>\n",
              "      <td>3</td>\n",
              "      <td>1</td>\n",
              "      <td>19802</td>\n",
              "      <td>2021-05-07 09:24:25</td>\n",
              "      <td>350</td>\n",
              "      <td>1277</td>\n",
              "      <td>BUY_PRODUCT</td>\n",
              "      <td>0</td>\n",
              "      <td>Apple iPad mini 64GB 4G</td>\n",
              "      <td>Komputery;Tablety i akcesoria;Tablety</td>\n",
              "      <td>2317.02</td>\n",
              "      <td>Apolonia Rudzik</td>\n",
              "      <td>Szczecin</td>\n",
              "      <td>ulica Głowackiego 75/57</td>\n",
              "    </tr>\n",
              "    <tr>\n",
              "      <th>13756</th>\n",
              "      <td>33757</td>\n",
              "      <td>2021-02-18 07:25:19</td>\n",
              "      <td>2021-02-20 08:16:48.837576</td>\n",
              "      <td>620</td>\n",
              "      <td>2021-02-20</td>\n",
              "      <td>2021-02-18</td>\n",
              "      <td>2</td>\n",
              "      <td>1</td>\n",
              "      <td>19803</td>\n",
              "      <td>2021-02-18 07:25:19</td>\n",
              "      <td>350</td>\n",
              "      <td>1318</td>\n",
              "      <td>BUY_PRODUCT</td>\n",
              "      <td>0</td>\n",
              "      <td>Plantronics Savi W710</td>\n",
              "      <td>Sprzęt RTV;Audio;Słuchawki</td>\n",
              "      <td>553.00</td>\n",
              "      <td>Apolonia Rudzik</td>\n",
              "      <td>Szczecin</td>\n",
              "      <td>ulica Głowackiego 75/57</td>\n",
              "    </tr>\n",
              "    <tr>\n",
              "      <th>13757</th>\n",
              "      <td>33758</td>\n",
              "      <td>2020-07-22 20:11:13</td>\n",
              "      <td>2020-07-25 08:29:22.016324</td>\n",
              "      <td>620</td>\n",
              "      <td>2020-07-25</td>\n",
              "      <td>2020-07-22</td>\n",
              "      <td>3</td>\n",
              "      <td>0</td>\n",
              "      <td>19805</td>\n",
              "      <td>2020-07-22 20:11:13</td>\n",
              "      <td>350</td>\n",
              "      <td>1315</td>\n",
              "      <td>BUY_PRODUCT</td>\n",
              "      <td>10</td>\n",
              "      <td>Jabra Talk</td>\n",
              "      <td>Telefony i akcesoria;Akcesoria telefoniczne;Ze...</td>\n",
              "      <td>54.99</td>\n",
              "      <td>Apolonia Rudzik</td>\n",
              "      <td>Szczecin</td>\n",
              "      <td>ulica Głowackiego 75/57</td>\n",
              "    </tr>\n",
              "    <tr>\n",
              "      <th>13758</th>\n",
              "      <td>33759</td>\n",
              "      <td>2021-02-23 01:45:12</td>\n",
              "      <td>2021-02-25 08:42:51.007068</td>\n",
              "      <td>620</td>\n",
              "      <td>2021-02-25</td>\n",
              "      <td>2021-02-23</td>\n",
              "      <td>2</td>\n",
              "      <td>1</td>\n",
              "      <td>19808</td>\n",
              "      <td>2021-02-23 01:45:12</td>\n",
              "      <td>351</td>\n",
              "      <td>1317</td>\n",
              "      <td>BUY_PRODUCT</td>\n",
              "      <td>0</td>\n",
              "      <td>Plantronics Savi W740</td>\n",
              "      <td>Telefony i akcesoria;Akcesoria telefoniczne;Ze...</td>\n",
              "      <td>1303.96</td>\n",
              "      <td>Bruno Kapinos</td>\n",
              "      <td>Gdynia</td>\n",
              "      <td>al. Zbożowa 276</td>\n",
              "    </tr>\n",
              "    <tr>\n",
              "      <th>13759</th>\n",
              "      <td>33760</td>\n",
              "      <td>2021-10-22 07:36:08</td>\n",
              "      <td>2021-10-25 08:18:49.808631</td>\n",
              "      <td>620</td>\n",
              "      <td>2021-10-25</td>\n",
              "      <td>2021-10-22</td>\n",
              "      <td>3</td>\n",
              "      <td>1</td>\n",
              "      <td>19810</td>\n",
              "      <td>2021-10-22 07:36:08</td>\n",
              "      <td>351</td>\n",
              "      <td>1005</td>\n",
              "      <td>BUY_PRODUCT</td>\n",
              "      <td>5</td>\n",
              "      <td>Szalone Króliki Na żywo i w kolorze (Xbox 360)</td>\n",
              "      <td>Gry i konsole;Gry na konsole;Gry Xbox 360</td>\n",
              "      <td>49.99</td>\n",
              "      <td>Bruno Kapinos</td>\n",
              "      <td>Gdynia</td>\n",
              "      <td>al. Zbożowa 276</td>\n",
              "    </tr>\n",
              "  </tbody>\n",
              "</table>\n",
              "<p>13760 rows × 20 columns</p>\n",
              "</div>\n",
              "      <button class=\"colab-df-convert\" onclick=\"convertToInteractive('df-ed56bdbc-4ac9-42c5-8165-ad5a28ba5a65')\"\n",
              "              title=\"Convert this dataframe to an interactive table.\"\n",
              "              style=\"display:none;\">\n",
              "        \n",
              "  <svg xmlns=\"http://www.w3.org/2000/svg\" height=\"24px\"viewBox=\"0 0 24 24\"\n",
              "       width=\"24px\">\n",
              "    <path d=\"M0 0h24v24H0V0z\" fill=\"none\"/>\n",
              "    <path d=\"M18.56 5.44l.94 2.06.94-2.06 2.06-.94-2.06-.94-.94-2.06-.94 2.06-2.06.94zm-11 1L8.5 8.5l.94-2.06 2.06-.94-2.06-.94L8.5 2.5l-.94 2.06-2.06.94zm10 10l.94 2.06.94-2.06 2.06-.94-2.06-.94-.94-2.06-.94 2.06-2.06.94z\"/><path d=\"M17.41 7.96l-1.37-1.37c-.4-.4-.92-.59-1.43-.59-.52 0-1.04.2-1.43.59L10.3 9.45l-7.72 7.72c-.78.78-.78 2.05 0 2.83L4 21.41c.39.39.9.59 1.41.59.51 0 1.02-.2 1.41-.59l7.78-7.78 2.81-2.81c.8-.78.8-2.07 0-2.86zM5.41 20L4 18.59l7.72-7.72 1.47 1.35L5.41 20z\"/>\n",
              "  </svg>\n",
              "      </button>\n",
              "      \n",
              "  <style>\n",
              "    .colab-df-container {\n",
              "      display:flex;\n",
              "      flex-wrap:wrap;\n",
              "      gap: 12px;\n",
              "    }\n",
              "\n",
              "    .colab-df-convert {\n",
              "      background-color: #E8F0FE;\n",
              "      border: none;\n",
              "      border-radius: 50%;\n",
              "      cursor: pointer;\n",
              "      display: none;\n",
              "      fill: #1967D2;\n",
              "      height: 32px;\n",
              "      padding: 0 0 0 0;\n",
              "      width: 32px;\n",
              "    }\n",
              "\n",
              "    .colab-df-convert:hover {\n",
              "      background-color: #E2EBFA;\n",
              "      box-shadow: 0px 1px 2px rgba(60, 64, 67, 0.3), 0px 1px 3px 1px rgba(60, 64, 67, 0.15);\n",
              "      fill: #174EA6;\n",
              "    }\n",
              "\n",
              "    [theme=dark] .colab-df-convert {\n",
              "      background-color: #3B4455;\n",
              "      fill: #D2E3FC;\n",
              "    }\n",
              "\n",
              "    [theme=dark] .colab-df-convert:hover {\n",
              "      background-color: #434B5C;\n",
              "      box-shadow: 0px 1px 3px 1px rgba(0, 0, 0, 0.15);\n",
              "      filter: drop-shadow(0px 1px 2px rgba(0, 0, 0, 0.3));\n",
              "      fill: #FFFFFF;\n",
              "    }\n",
              "  </style>\n",
              "\n",
              "      <script>\n",
              "        const buttonEl =\n",
              "          document.querySelector('#df-ed56bdbc-4ac9-42c5-8165-ad5a28ba5a65 button.colab-df-convert');\n",
              "        buttonEl.style.display =\n",
              "          google.colab.kernel.accessAllowed ? 'block' : 'none';\n",
              "\n",
              "        async function convertToInteractive(key) {\n",
              "          const element = document.querySelector('#df-ed56bdbc-4ac9-42c5-8165-ad5a28ba5a65');\n",
              "          const dataTable =\n",
              "            await google.colab.kernel.invokeFunction('convertToInteractive',\n",
              "                                                     [key], {});\n",
              "          if (!dataTable) return;\n",
              "\n",
              "          const docLinkHtml = 'Like what you see? Visit the ' +\n",
              "            '<a target=\"_blank\" href=https://colab.research.google.com/notebooks/data_table.ipynb>data table notebook</a>'\n",
              "            + ' to learn more about interactive tables.';\n",
              "          element.innerHTML = '';\n",
              "          dataTable['output_type'] = 'display_data';\n",
              "          await google.colab.output.renderOutput(dataTable, element);\n",
              "          const docLink = document.createElement('div');\n",
              "          docLink.innerHTML = docLinkHtml;\n",
              "          element.appendChild(docLink);\n",
              "        }\n",
              "      </script>\n",
              "    </div>\n",
              "  </div>\n",
              "  "
            ],
            "text/plain": [
              "       purchase_id  purchase_timestamp  ...      city                   street\n",
              "0            20001 2020-10-20 13:00:31  ...  Warszawa    aleja Popiełuszki 640\n",
              "1            20002 2021-11-01 16:12:47  ...  Warszawa    aleja Popiełuszki 640\n",
              "2            20003 2020-03-06 22:46:45  ...  Warszawa    aleja Popiełuszki 640\n",
              "3            20004 2021-02-24 13:03:01  ...  Warszawa    aleja Popiełuszki 640\n",
              "4            20005 2021-02-01 13:27:28  ...  Warszawa    aleja Popiełuszki 640\n",
              "...            ...                 ...  ...       ...                      ...\n",
              "13755        33756 2021-05-07 09:24:25  ...  Szczecin  ulica Głowackiego 75/57\n",
              "13756        33757 2021-02-18 07:25:19  ...  Szczecin  ulica Głowackiego 75/57\n",
              "13757        33758 2020-07-22 20:11:13  ...  Szczecin  ulica Głowackiego 75/57\n",
              "13758        33759 2021-02-23 01:45:12  ...    Gdynia          al. Zbożowa 276\n",
              "13759        33760 2021-10-22 07:36:08  ...    Gdynia          al. Zbożowa 276\n",
              "\n",
              "[13760 rows x 20 columns]"
            ]
          },
          "metadata": {},
          "execution_count": 76
        }
      ]
    },
    {
      "cell_type": "code",
      "source": [
        "dec_var = [\"delivery_company\", 'diff_days', 'purchase_morning', 'city']"
      ],
      "metadata": {
        "id": "G8_FRKMZXAoo"
      },
      "execution_count": 77,
      "outputs": []
    },
    {
      "cell_type": "code",
      "source": [
        "sns.countplot(all_info['diff_days'])"
      ],
      "metadata": {
        "colab": {
          "base_uri": "https://localhost:8080/",
          "height": 352
        },
        "id": "CYWKSXAdUz6V",
        "outputId": "c11065ac-0999-4554-c9b1-7b0df0d1b1bc"
      },
      "execution_count": 78,
      "outputs": [
        {
          "output_type": "stream",
          "name": "stderr",
          "text": [
            "/usr/local/lib/python3.7/dist-packages/seaborn/_decorators.py:43: FutureWarning: Pass the following variable as a keyword arg: x. From version 0.12, the only valid positional argument will be `data`, and passing other arguments without an explicit keyword will result in an error or misinterpretation.\n",
            "  FutureWarning\n"
          ]
        },
        {
          "output_type": "execute_result",
          "data": {
            "text/plain": [
              "<matplotlib.axes._subplots.AxesSubplot at 0x7f71d6a26310>"
            ]
          },
          "metadata": {},
          "execution_count": 78
        },
        {
          "output_type": "display_data",
          "data": {
            "image/png": "[encoded data removed]",
            "text/plain": [
              "<Figure size 432x288 with 1 Axes>"
            ]
          },
          "metadata": {
            "needs_background": "light"
          }
        }
      ]
    },
    {
      "cell_type": "code",
      "source": [
        "all_info[dec_var]"
      ],
      "metadata": {
        "colab": {
          "base_uri": "https://localhost:8080/",
          "height": 424
        },
        "id": "HdaYQg7EWb0I",
        "outputId": "a3ec3f1b-a8af-4117-82f2-71def502d995"
      },
      "execution_count": 79,
      "outputs": [
        {
          "output_type": "execute_result",
          "data": {
            "text/html": [
              "\n",
              "  <div id=\"df-5b95037d-3d3e-49e7-bad6-ec56cde6a3c3\">\n",
              "    <div class=\"colab-df-container\">\n",
              "      <div>\n",
              "<style scoped>\n",
              "    .dataframe tbody tr th:only-of-type {\n",
              "        vertical-align: middle;\n",
              "    }\n",
              "\n",
              "    .dataframe tbody tr th {\n",
              "        vertical-align: top;\n",
              "    }\n",
              "\n",
              "    .dataframe thead th {\n",
              "        text-align: right;\n",
              "    }\n",
              "</style>\n",
              "<table border=\"1\" class=\"dataframe\">\n",
              "  <thead>\n",
              "    <tr style=\"text-align: right;\">\n",
              "      <th></th>\n",
              "      <th>delivery_company</th>\n",
              "      <th>diff_days</th>\n",
              "      <th>purchase_morning</th>\n",
              "      <th>city</th>\n",
              "    </tr>\n",
              "  </thead>\n",
              "  <tbody>\n",
              "    <tr>\n",
              "      <th>0</th>\n",
              "      <td>516</td>\n",
              "      <td>3</td>\n",
              "      <td>1</td>\n",
              "      <td>Warszawa</td>\n",
              "    </tr>\n",
              "    <tr>\n",
              "      <th>1</th>\n",
              "      <td>254</td>\n",
              "      <td>2</td>\n",
              "      <td>0</td>\n",
              "      <td>Warszawa</td>\n",
              "    </tr>\n",
              "    <tr>\n",
              "      <th>2</th>\n",
              "      <td>516</td>\n",
              "      <td>3</td>\n",
              "      <td>0</td>\n",
              "      <td>Warszawa</td>\n",
              "    </tr>\n",
              "    <tr>\n",
              "      <th>3</th>\n",
              "      <td>360</td>\n",
              "      <td>2</td>\n",
              "      <td>1</td>\n",
              "      <td>Warszawa</td>\n",
              "    </tr>\n",
              "    <tr>\n",
              "      <th>4</th>\n",
              "      <td>516</td>\n",
              "      <td>3</td>\n",
              "      <td>1</td>\n",
              "      <td>Warszawa</td>\n",
              "    </tr>\n",
              "    <tr>\n",
              "      <th>...</th>\n",
              "      <td>...</td>\n",
              "      <td>...</td>\n",
              "      <td>...</td>\n",
              "      <td>...</td>\n",
              "    </tr>\n",
              "    <tr>\n",
              "      <th>13755</th>\n",
              "      <td>516</td>\n",
              "      <td>3</td>\n",
              "      <td>1</td>\n",
              "      <td>Szczecin</td>\n",
              "    </tr>\n",
              "    <tr>\n",
              "      <th>13756</th>\n",
              "      <td>620</td>\n",
              "      <td>2</td>\n",
              "      <td>1</td>\n",
              "      <td>Szczecin</td>\n",
              "    </tr>\n",
              "    <tr>\n",
              "      <th>13757</th>\n",
              "      <td>620</td>\n",
              "      <td>3</td>\n",
              "      <td>0</td>\n",
              "      <td>Szczecin</td>\n",
              "    </tr>\n",
              "    <tr>\n",
              "      <th>13758</th>\n",
              "      <td>620</td>\n",
              "      <td>2</td>\n",
              "      <td>1</td>\n",
              "      <td>Gdynia</td>\n",
              "    </tr>\n",
              "    <tr>\n",
              "      <th>13759</th>\n",
              "      <td>620</td>\n",
              "      <td>3</td>\n",
              "      <td>1</td>\n",
              "      <td>Gdynia</td>\n",
              "    </tr>\n",
              "  </tbody>\n",
              "</table>\n",
              "<p>13760 rows × 4 columns</p>\n",
              "</div>\n",
              "      <button class=\"colab-df-convert\" onclick=\"convertToInteractive('df-5b95037d-3d3e-49e7-bad6-ec56cde6a3c3')\"\n",
              "              title=\"Convert this dataframe to an interactive table.\"\n",
              "              style=\"display:none;\">\n",
              "        \n",
              "  <svg xmlns=\"http://www.w3.org/2000/svg\" height=\"24px\"viewBox=\"0 0 24 24\"\n",
              "       width=\"24px\">\n",
              "    <path d=\"M0 0h24v24H0V0z\" fill=\"none\"/>\n",
              "    <path d=\"M18.56 5.44l.94 2.06.94-2.06 2.06-.94-2.06-.94-.94-2.06-.94 2.06-2.06.94zm-11 1L8.5 8.5l.94-2.06 2.06-.94-2.06-.94L8.5 2.5l-.94 2.06-2.06.94zm10 10l.94 2.06.94-2.06 2.06-.94-2.06-.94-.94-2.06-.94 2.06-2.06.94z\"/><path d=\"M17.41 7.96l-1.37-1.37c-.4-.4-.92-.59-1.43-.59-.52 0-1.04.2-1.43.59L10.3 9.45l-7.72 7.72c-.78.78-.78 2.05 0 2.83L4 21.41c.39.39.9.59 1.41.59.51 0 1.02-.2 1.41-.59l7.78-7.78 2.81-2.81c.8-.78.8-2.07 0-2.86zM5.41 20L4 18.59l7.72-7.72 1.47 1.35L5.41 20z\"/>\n",
              "  </svg>\n",
              "      </button>\n",
              "      \n",
              "  <style>\n",
              "    .colab-df-container {\n",
              "      display:flex;\n",
              "      flex-wrap:wrap;\n",
              "      gap: 12px;\n",
              "    }\n",
              "\n",
              "    .colab-df-convert {\n",
              "      background-color: #E8F0FE;\n",
              "      border: none;\n",
              "      border-radius: 50%;\n",
              "      cursor: pointer;\n",
              "      display: none;\n",
              "      fill: #1967D2;\n",
              "      height: 32px;\n",
              "      padding: 0 0 0 0;\n",
              "      width: 32px;\n",
              "    }\n",
              "\n",
              "    .colab-df-convert:hover {\n",
              "      background-color: #E2EBFA;\n",
              "      box-shadow: 0px 1px 2px rgba(60, 64, 67, 0.3), 0px 1px 3px 1px rgba(60, 64, 67, 0.15);\n",
              "      fill: #174EA6;\n",
              "    }\n",
              "\n",
              "    [theme=dark] .colab-df-convert {\n",
              "      background-color: #3B4455;\n",
              "      fill: #D2E3FC;\n",
              "    }\n",
              "\n",
              "    [theme=dark] .colab-df-convert:hover {\n",
              "      background-color: #434B5C;\n",
              "      box-shadow: 0px 1px 3px 1px rgba(0, 0, 0, 0.15);\n",
              "      filter: drop-shadow(0px 1px 2px rgba(0, 0, 0, 0.3));\n",
              "      fill: #FFFFFF;\n",
              "    }\n",
              "  </style>\n",
              "\n",
              "      <script>\n",
              "        const buttonEl =\n",
              "          document.querySelector('#df-5b95037d-3d3e-49e7-bad6-ec56cde6a3c3 button.colab-df-convert');\n",
              "        buttonEl.style.display =\n",
              "          google.colab.kernel.accessAllowed ? 'block' : 'none';\n",
              "\n",
              "        async function convertToInteractive(key) {\n",
              "          const element = document.querySelector('#df-5b95037d-3d3e-49e7-bad6-ec56cde6a3c3');\n",
              "          const dataTable =\n",
              "            await google.colab.kernel.invokeFunction('convertToInteractive',\n",
              "                                                     [key], {});\n",
              "          if (!dataTable) return;\n",
              "\n",
              "          const docLinkHtml = 'Like what you see? Visit the ' +\n",
              "            '<a target=\"_blank\" href=https://colab.research.google.com/notebooks/data_table.ipynb>data table notebook</a>'\n",
              "            + ' to learn more about interactive tables.';\n",
              "          element.innerHTML = '';\n",
              "          dataTable['output_type'] = 'display_data';\n",
              "          await google.colab.output.renderOutput(dataTable, element);\n",
              "          const docLink = document.createElement('div');\n",
              "          docLink.innerHTML = docLinkHtml;\n",
              "          element.appendChild(docLink);\n",
              "        }\n",
              "      </script>\n",
              "    </div>\n",
              "  </div>\n",
              "  "
            ],
            "text/plain": [
              "       delivery_company  diff_days  purchase_morning      city\n",
              "0                   516          3                 1  Warszawa\n",
              "1                   254          2                 0  Warszawa\n",
              "2                   516          3                 0  Warszawa\n",
              "3                   360          2                 1  Warszawa\n",
              "4                   516          3                 1  Warszawa\n",
              "...                 ...        ...               ...       ...\n",
              "13755               516          3                 1  Szczecin\n",
              "13756               620          2                 1  Szczecin\n",
              "13757               620          3                 0  Szczecin\n",
              "13758               620          2                 1    Gdynia\n",
              "13759               620          3                 1    Gdynia\n",
              "\n",
              "[13760 rows x 4 columns]"
            ]
          },
          "metadata": {},
          "execution_count": 79
        }
      ]
    },
    {
      "cell_type": "code",
      "source": [
        "all_info = all_info.drop(all_info.index[all_info['diff_days'].isin([0,5])], axis=0)"
      ],
      "metadata": {
        "id": "p2JjxUMHbjgn"
      },
      "execution_count": 80,
      "outputs": []
    },
    {
      "cell_type": "code",
      "source": [
        "all_info = all_info[dec_var]"
      ],
      "metadata": {
        "id": "iZk2xr8ud5b5"
      },
      "execution_count": 81,
      "outputs": []
    },
    {
      "cell_type": "code",
      "source": [
        "city_dum = pd.get_dummies(all_info['city'], drop_first=True)"
      ],
      "metadata": {
        "id": "EuAqhlNCd_fc"
      },
      "execution_count": 82,
      "outputs": []
    },
    {
      "cell_type": "code",
      "source": [
        "delivery_company_dum = pd.get_dummies(all_info['city'], drop_first=True)"
      ],
      "metadata": {
        "id": "wDgkdX0DeAIr"
      },
      "execution_count": 83,
      "outputs": []
    },
    {
      "cell_type": "code",
      "source": [
        "all_info.drop('delivery_company', axis=1, inplace=True)"
      ],
      "metadata": {
        "id": "2gYVlWf6eaGD"
      },
      "execution_count": 84,
      "outputs": []
    },
    {
      "cell_type": "code",
      "source": [
        "all_info.drop('city', axis=1, inplace=True)"
      ],
      "metadata": {
        "id": "G3dtIxKJgK4u"
      },
      "execution_count": 85,
      "outputs": []
    },
    {
      "cell_type": "code",
      "source": [
        "final = pd.concat([all_info, city_dum, delivery_company_dum], axis=1)"
      ],
      "metadata": {
        "id": "toP-UcOCgybm"
      },
      "execution_count": 86,
      "outputs": []
    },
    {
      "cell_type": "code",
      "source": [
        "X = final.drop('diff_days', axis=1)"
      ],
      "metadata": {
        "id": "f0ls-oDtgzRO"
      },
      "execution_count": 88,
      "outputs": []
    },
    {
      "cell_type": "code",
      "source": [
        "y = final['diff_days']"
      ],
      "metadata": {
        "id": "16WfT1kqhWtw"
      },
      "execution_count": 89,
      "outputs": []
    },
    {
      "cell_type": "markdown",
      "source": [
        "## **Logistic Regression**"
      ],
      "metadata": {
        "id": "mxhuy0uvj6Jh"
      }
    },
    {
      "cell_type": "code",
      "source": [
        "from sklearn.linear_model import LogisticRegression\n",
        "from sklearn.model_selection import train_test_split\n",
        "from sklearn.metrics import confusion_matrix, accuracy_score, classification_report"
      ],
      "metadata": {
        "id": "wDQ-ZQEfh637"
      },
      "execution_count": 94,
      "outputs": []
    },
    {
      "cell_type": "code",
      "source": [
        "X_train, X_test, y_train, y_test = train_test_split(X, y, test_size=0.33, random_state=1)"
      ],
      "metadata": {
        "id": "0BCvhdNOiDVU"
      },
      "execution_count": 105,
      "outputs": []
    },
    {
      "cell_type": "code",
      "source": [
        "model = LogisticRegression()"
      ],
      "metadata": {
        "id": "lUoSO6pAiezX"
      },
      "execution_count": 106,
      "outputs": []
    },
    {
      "cell_type": "code",
      "source": [
        "model.fit(X_train, y_train)"
      ],
      "metadata": {
        "colab": {
          "base_uri": "https://localhost:8080/"
        },
        "id": "1P0kveo2ij5_",
        "outputId": "56f74947-8ddd-4239-e209-4b77f6ad9035"
      },
      "execution_count": 107,
      "outputs": [
        {
          "output_type": "execute_result",
          "data": {
            "text/plain": [
              "LogisticRegression()"
            ]
          },
          "metadata": {},
          "execution_count": 107
        }
      ]
    },
    {
      "cell_type": "code",
      "source": [
        "accuracy_score(y_test, model.predict(X_test))"
      ],
      "metadata": {
        "colab": {
          "base_uri": "https://localhost:8080/"
        },
        "id": "8ifQgzKSil45",
        "outputId": "4b7ac93d-e309-4fc7-9d87-61bc86913f31"
      },
      "execution_count": 108,
      "outputs": [
        {
          "output_type": "execute_result",
          "data": {
            "text/plain": [
              "0.5869806709620085"
            ]
          },
          "metadata": {},
          "execution_count": 108
        }
      ]
    },
    {
      "cell_type": "code",
      "source": [
        "print(classification_report(y_test, model.predict(X_test)))"
      ],
      "metadata": {
        "colab": {
          "base_uri": "https://localhost:8080/"
        },
        "id": "j6h77iSoiq2q",
        "outputId": "dd6eba67-901a-48ff-c83b-1d6d61865d61"
      },
      "execution_count": 109,
      "outputs": [
        {
          "output_type": "stream",
          "name": "stdout",
          "text": [
            "              precision    recall  f1-score   support\n",
            "\n",
            "           1       0.70      0.53      0.60       556\n",
            "           2       0.60      0.65      0.63      2028\n",
            "           3       0.54      0.64      0.59      1611\n",
            "           4       0.00      0.00      0.00       306\n",
            "\n",
            "    accuracy                           0.59      4501\n",
            "   macro avg       0.46      0.45      0.45      4501\n",
            "weighted avg       0.55      0.59      0.57      4501\n",
            "\n"
          ]
        },
        {
          "output_type": "stream",
          "name": "stderr",
          "text": [
            "/usr/local/lib/python3.7/dist-packages/sklearn/metrics/_classification.py:1308: UndefinedMetricWarning: Precision and F-score are ill-defined and being set to 0.0 in labels with no predicted samples. Use `zero_division` parameter to control this behavior.\n",
            "  _warn_prf(average, modifier, msg_start, len(result))\n",
            "/usr/local/lib/python3.7/dist-packages/sklearn/metrics/_classification.py:1308: UndefinedMetricWarning: Precision and F-score are ill-defined and being set to 0.0 in labels with no predicted samples. Use `zero_division` parameter to control this behavior.\n",
            "  _warn_prf(average, modifier, msg_start, len(result))\n",
            "/usr/local/lib/python3.7/dist-packages/sklearn/metrics/_classification.py:1308: UndefinedMetricWarning: Precision and F-score are ill-defined and being set to 0.0 in labels with no predicted samples. Use `zero_division` parameter to control this behavior.\n",
            "  _warn_prf(average, modifier, msg_start, len(result))\n"
          ]
        }
      ]
    },
    {
      "cell_type": "markdown",
      "source": [
        "## **SVM**"
      ],
      "metadata": {
        "id": "Y-Nn1uhej_XG"
      }
    },
    {
      "cell_type": "code",
      "source": [
        "from sklearn.svm import SVC"
      ],
      "metadata": {
        "id": "wMsY5eu3iyg-"
      },
      "execution_count": 110,
      "outputs": []
    },
    {
      "cell_type": "code",
      "source": [
        "mod_svm = SVC(kernel='linear')"
      ],
      "metadata": {
        "id": "QecbE3Dmjqll"
      },
      "execution_count": 111,
      "outputs": []
    },
    {
      "cell_type": "code",
      "source": [
        "mod_svm.fit(X_train, y_train)"
      ],
      "metadata": {
        "colab": {
          "base_uri": "https://localhost:8080/"
        },
        "id": "-udujU86jrw2",
        "outputId": "8f4b4e53-d16e-4624-a785-11596a791851"
      },
      "execution_count": 112,
      "outputs": [
        {
          "output_type": "execute_result",
          "data": {
            "text/plain": [
              "SVC(kernel='linear')"
            ]
          },
          "metadata": {},
          "execution_count": 112
        }
      ]
    },
    {
      "cell_type": "code",
      "source": [
        "accuracy_score(y_test, mod_svm.predict(X_test))"
      ],
      "metadata": {
        "colab": {
          "base_uri": "https://localhost:8080/"
        },
        "id": "TciDVWAdjuLq",
        "outputId": "f32cf513-75ab-4178-e2eb-bd7eadcb14fa"
      },
      "execution_count": 113,
      "outputs": [
        {
          "output_type": "execute_result",
          "data": {
            "text/plain": [
              "0.579871139746723"
            ]
          },
          "metadata": {},
          "execution_count": 113
        }
      ]
    },
    {
      "cell_type": "code",
      "source": [
        "print(classification_report(y_test, mod_svm.predict(X_test)))"
      ],
      "metadata": {
        "colab": {
          "base_uri": "https://localhost:8080/"
        },
        "id": "mI-eM8FfkDXM",
        "outputId": "e2ad2055-dcf1-4754-c331-4b42d52eaa6f"
      },
      "execution_count": 114,
      "outputs": [
        {
          "output_type": "stream",
          "name": "stdout",
          "text": [
            "              precision    recall  f1-score   support\n",
            "\n",
            "           1       0.70      0.53      0.60       556\n",
            "           2       0.57      0.72      0.64      2028\n",
            "           3       0.56      0.53      0.54      1611\n",
            "           4       0.00      0.00      0.00       306\n",
            "\n",
            "    accuracy                           0.58      4501\n",
            "   macro avg       0.46      0.45      0.45      4501\n",
            "weighted avg       0.54      0.58      0.56      4501\n",
            "\n"
          ]
        },
        {
          "output_type": "stream",
          "name": "stderr",
          "text": [
            "/usr/local/lib/python3.7/dist-packages/sklearn/metrics/_classification.py:1308: UndefinedMetricWarning: Precision and F-score are ill-defined and being set to 0.0 in labels with no predicted samples. Use `zero_division` parameter to control this behavior.\n",
            "  _warn_prf(average, modifier, msg_start, len(result))\n",
            "/usr/local/lib/python3.7/dist-packages/sklearn/metrics/_classification.py:1308: UndefinedMetricWarning: Precision and F-score are ill-defined and being set to 0.0 in labels with no predicted samples. Use `zero_division` parameter to control this behavior.\n",
            "  _warn_prf(average, modifier, msg_start, len(result))\n",
            "/usr/local/lib/python3.7/dist-packages/sklearn/metrics/_classification.py:1308: UndefinedMetricWarning: Precision and F-score are ill-defined and being set to 0.0 in labels with no predicted samples. Use `zero_division` parameter to control this behavior.\n",
            "  _warn_prf(average, modifier, msg_start, len(result))\n"
          ]
        }
      ]
    },
    {
      "cell_type": "markdown",
      "source": [
        "## **KNN**"
      ],
      "metadata": {
        "id": "DK-5AyQNj9Vo"
      }
    },
    {
      "cell_type": "code",
      "source": [
        "from sklearn.neighbors import KNeighborsClassifier"
      ],
      "metadata": {
        "id": "kcl8upSajyzJ"
      },
      "execution_count": 115,
      "outputs": []
    },
    {
      "cell_type": "code",
      "source": [
        "neigh = KNeighborsClassifier(n_neighbors = 3)"
      ],
      "metadata": {
        "id": "fYGzUbGBkOh4"
      },
      "execution_count": 118,
      "outputs": []
    },
    {
      "cell_type": "code",
      "source": [
        "neigh.fit(X_train, y_train)"
      ],
      "metadata": {
        "colab": {
          "base_uri": "https://localhost:8080/"
        },
        "id": "KW-pOCiIkPr0",
        "outputId": "c2bde9b3-06e4-4870-f96c-d4c4d303b9f9"
      },
      "execution_count": 119,
      "outputs": [
        {
          "output_type": "execute_result",
          "data": {
            "text/plain": [
              "KNeighborsClassifier(n_neighbors=3)"
            ]
          },
          "metadata": {},
          "execution_count": 119
        }
      ]
    },
    {
      "cell_type": "code",
      "source": [
        "print(classification_report(y_test, neigh.predict(X_test)))"
      ],
      "metadata": {
        "colab": {
          "base_uri": "https://localhost:8080/"
        },
        "id": "eu-fseRDkTyV",
        "outputId": "95740fd5-4cd7-45dc-9035-f7ebba82f5b3"
      },
      "execution_count": 120,
      "outputs": [
        {
          "output_type": "stream",
          "name": "stdout",
          "text": [
            "              precision    recall  f1-score   support\n",
            "\n",
            "           1       0.39      0.63      0.48       556\n",
            "           2       0.54      0.52      0.53      2028\n",
            "           3       0.50      0.51      0.51      1611\n",
            "           4       0.00      0.00      0.00       306\n",
            "\n",
            "    accuracy                           0.50      4501\n",
            "   macro avg       0.36      0.42      0.38      4501\n",
            "weighted avg       0.47      0.50      0.48      4501\n",
            "\n"
          ]
        },
        {
          "output_type": "stream",
          "name": "stderr",
          "text": [
            "/usr/local/lib/python3.7/dist-packages/sklearn/metrics/_classification.py:1308: UndefinedMetricWarning: Precision and F-score are ill-defined and being set to 0.0 in labels with no predicted samples. Use `zero_division` parameter to control this behavior.\n",
            "  _warn_prf(average, modifier, msg_start, len(result))\n",
            "/usr/local/lib/python3.7/dist-packages/sklearn/metrics/_classification.py:1308: UndefinedMetricWarning: Precision and F-score are ill-defined and being set to 0.0 in labels with no predicted samples. Use `zero_division` parameter to control this behavior.\n",
            "  _warn_prf(average, modifier, msg_start, len(result))\n",
            "/usr/local/lib/python3.7/dist-packages/sklearn/metrics/_classification.py:1308: UndefinedMetricWarning: Precision and F-score are ill-defined and being set to 0.0 in labels with no predicted samples. Use `zero_division` parameter to control this behavior.\n",
            "  _warn_prf(average, modifier, msg_start, len(result))\n"
          ]
        }
      ]
    },
    {
      "cell_type": "code",
      "source": [
        ""
      ],
      "metadata": {
        "id": "iGg2NTuYkfJH"
      },
      "execution_count": null,
      "outputs": []
    }
  ]
}